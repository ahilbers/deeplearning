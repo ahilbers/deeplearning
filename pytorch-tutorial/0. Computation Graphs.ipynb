{
 "cells": [
  {
   "cell_type": "markdown",
   "metadata": {},
   "source": [
    "# Computation Graphs\n",
    "\n",
    "[PyTorch](https://pytorch.org/) is a flexible deep learning framework that allows automatic differentiation through dynamic neural networks (i.e., networks that utilise dynamic control flow like if statements and while loops). It supports GPU acceleration, distributed training, C++ deployment and much more. By default, PyTorch acts as an imperative language and operations are executed in the order they are called. Version 1.0 introduces a just-in-time (JIT) compiler that can optimise models, and so these two modes are similar to the \"eager\" and \"graph\" modes of TensorFlow, respectively.\n",
    "\n",
    "It's best to start with the [official tutorials](https://pytorch.org/tutorials/) - in particular, [Deep Learning with PyTorch: A 60 Minute Blitz](https://pytorch.org/tutorials/beginner/deep_learning_60min_blitz.html). For practical tips, check out [Grokking PyTorch](https://github.com/Kaixhin/grokking-pytorch). Consider these two as prerequisites."
   ]
  },
  {
   "cell_type": "markdown",
   "metadata": {},
   "source": [
    "## Computation Graph with Side-Effects\n",
    "\n",
    "A computation graph can be very general. To drive this home, we're going to make a \"neural network\" that takes an arbitrary tensor as input, queries a website for a random cat image, displays this image as a side-effect of its execution, and then returns the input tensor + 1 if the image was a JPEG or PNG, or the input tensor - 1 if the image was a GIF. More practically, we can also print data during the forward pass of the network - an ability that makes debugging much easier."
   ]
  },
  {
   "cell_type": "code",
   "execution_count": null,
   "metadata": {},
   "outputs": [],
   "source": [
    "import json\n",
    "import requests\n",
    "import torch\n",
    "from torch import nn\n",
    "from IPython.display import display, Image"
   ]
  },
  {
   "cell_type": "code",
   "execution_count": null,
   "metadata": {},
   "outputs": [],
   "source": [
    "class RandomCatNet(nn.Module):\n",
    "    def __init__(self):\n",
    "        super().__init__()\n",
    "\n",
    "    def forward(self, x):\n",
    "        print(x.size())\n",
    "        r = requests.get(url='https://api.thecatapi.com/v1/images/search?size=small')\n",
    "        data = json.loads(r.text)\n",
    "        url = data[0]['url']\n",
    "        display(Image(url))\n",
    "        if url[-3:] == 'gif':\n",
    "            return x - 1\n",
    "        else:\n",
    "            return x + 1"
   ]
  },
  {
   "cell_type": "code",
   "execution_count": null,
   "metadata": {},
   "outputs": [],
   "source": [
    "model = RandomCatNet()\n",
    "x = torch.randn(5)\n",
    "display(x)\n",
    "\n",
    "y = model(x)\n",
    "display(y)"
   ]
  },
  {
   "cell_type": "code",
   "execution_count": null,
   "metadata": {},
   "outputs": [],
   "source": []
  }
 ],
 "metadata": {
  "kernelspec": {
   "display_name": "Python 3",
   "language": "python",
   "name": "python3"
  },
  "language_info": {
   "codemirror_mode": {
    "name": "ipython",
    "version": 3
   },
   "file_extension": ".py",
   "mimetype": "text/x-python",
   "name": "python",
   "nbconvert_exporter": "python",
   "pygments_lexer": "ipython3",
   "version": "3.7.0"
  }
 },
 "nbformat": 4,
 "nbformat_minor": 2
}
