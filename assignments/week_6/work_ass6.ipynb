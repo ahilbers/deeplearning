{
 "cells": [
  {
   "cell_type": "code",
   "execution_count": null,
   "metadata": {},
   "outputs": [],
   "source": [
    "import numpy as np\n",
    "import pandas as pd\n",
    "import matplotlib.pyplot as plt\n",
    "import time\n",
    "import tensorflow as tf"
   ]
  },
  {
   "cell_type": "markdown",
   "metadata": {
    "collapsed": true
   },
   "source": [
    "# Import and inspect data"
   ]
  },
  {
   "cell_type": "markdown",
   "metadata": {},
   "source": [
    "## Import"
   ]
  },
  {
   "cell_type": "code",
   "execution_count": null,
   "metadata": {},
   "outputs": [],
   "source": [
    "def import_data():\n",
    "    \"\"\"Import training and testing data, as data and labels\"\"\"\n",
    "    \n",
    "    # Import in pandas (np.genfromtxt is too slow)\n",
    "    tr_pd = pd.read_csv('../week_2/data_train.csv', header=None)\n",
    "    tst_pd = pd.read_csv('../week_2/data_test.csv', header=None)\n",
    "    \n",
    "    # Split data and labels\n",
    "    tr_data = np.array(tr_pd.loc[:, 1:])\n",
    "    tr_labels = np.array(tr_pd.loc[:, 0])\n",
    "    tst_data = np.array(tst_pd.loc[:, 1:])\n",
    "    tst_labels = np.array(tst_pd.loc[:, 0])\n",
    "    \n",
    "    return tr_data, tst_data, tr_labels, tst_labels"
   ]
  },
  {
   "cell_type": "code",
   "execution_count": null,
   "metadata": {},
   "outputs": [],
   "source": [
    "g_tr_data, g_tst_data, g_tr_labels, g_tst_labels = import_data()\n",
    "g_tr_data = g_tr_data/255\n",
    "g_tst_data = g_tst_data/255"
   ]
  },
  {
   "cell_type": "markdown",
   "metadata": {},
   "source": [
    "## Inspect"
   ]
  },
  {
   "cell_type": "code",
   "execution_count": null,
   "metadata": {},
   "outputs": [],
   "source": [
    "def inspect_number(data, img_nums, savefig=False):\n",
    "    \"\"\"Display image. img_nums should be entered as list.\"\"\"\n",
    "    \n",
    "    num_images = len(img_nums)\n",
    "    # Reshape datasets into pixel array\n",
    "    data_rs = np.reshape(data, newshape=(data.shape[0], 28, 28))\n",
    "    \n",
    "    figsize = (10, 1)\n",
    "    fig, axes = plt.subplots(1, num_images, figsize=figsize)\n",
    "    for k in range(num_images):\n",
    "        ax = axes[img_nums[k]]\n",
    "        ax.imshow(data_rs[img_nums[k]], cmap='Greys')\n",
    "        ax.set_axis_off()\n",
    "    if savefig:\n",
    "        plt.savefig('number_output_pic.pdf')\n",
    "    plt.show()"
   ]
  },
  {
   "cell_type": "code",
   "execution_count": null,
   "metadata": {},
   "outputs": [],
   "source": [
    "inspect_number(g_tr_data, np.arange(10), savefig=True)"
   ]
  },
  {
   "cell_type": "markdown",
   "metadata": {
    "collapsed": true
   },
   "source": [
    "# Build VAE in Tensorflow"
   ]
  },
  {
   "cell_type": "code",
   "execution_count": null,
   "metadata": {},
   "outputs": [],
   "source": [
    "class AutoEncoder():\n",
    "    \"\"\"Autoencoder. For most examples, self.inp=self.tgt, but these are considered \n",
    "    independent variables to make extensions more straightforward.\"\"\"\n",
    "    \n",
    "    def __init__(self, num_z, learn_param):\n",
    "        self.batch_size = 100\n",
    "        self.num_z = num_z    # Number of dimensions of latent space\n",
    "        self.learn_param = learn_param\n",
    "        \n",
    "        self.inp = tf.placeholder(dtype=tf.float32, shape=[None, 784], name='inputs')\n",
    "        self.tgt = tf.placeholder(dtype=tf.float32, shape=[None, 784], name='targets')\n",
    "        self.sess = tf.Session()\n",
    "        self._build_graph()\n",
    "        self.sess.run(tf.initializers.global_variables())\n",
    "    \n",
    "    def _build_graph(self):\n",
    "        \"\"\"Build neural network\"\"\"\n",
    "        initializer = tf.glorot_uniform_initializer()\n",
    "        \n",
    "        # Encoder: convolutional neural network\n",
    "        enc_h = tf.reshape(self.inp, shape=[-1, 28, 28, 1])    \n",
    "        enc_h = tf.layers.conv2d(enc_h, 16, kernel_size=[5, 5], strides=[2, 2], padding='same', \n",
    "                             kernel_initializer=initializer, activation=tf.nn.relu, \n",
    "                             name='enc_conv1')    # 28x28 -> 14x14x16\n",
    "        print(enc_h)\n",
    "        enc_h = tf.layers.conv2d(enc_h, 32, kernel_size=[5, 5], strides=[2, 2], padding='same',\n",
    "                             kernel_initializer=initializer, activation=tf.nn.relu, \n",
    "                             name='enc_conv2')    # 14x14x16 -> 7x7x32\n",
    "        print(enc_h)\n",
    "        enc_h = tf.reshape(enc_h, [-1, 7*7*32])\n",
    "\n",
    "        # Bottleneck with reparametrisation trick\n",
    "        self.mu = tf.layers.dense(enc_h, self.num_z, kernel_initializer=initializer,\n",
    "                                  activation=None, name='mu')\n",
    "        print(self.mu)\n",
    "        self.log_sigma = tf.layers.dense(enc_h, self.num_z, kernel_initializer=initializer,\n",
    "                                         activation=None, name='log_sigma')\n",
    "        print(self.log_sigma)\n",
    "        self.z = tf.add(self.mu, \n",
    "                        tf.multiply(tf.exp(0.5 * self.log_sigma), \n",
    "                                    tf.random.normal(shape=[tf.shape(self.mu)[0], \n",
    "                                                            self.num_z]),\n",
    "                        name='z'))\n",
    "        print(self.z)\n",
    "\n",
    "        # Decoder: deconvolutional neural network\n",
    "        dec_h = tf.layers.dense(self.z, 7*7*32, kernel_initializer=initializer, \n",
    "                            activation=tf.nn.relu, name='dec_dense1')\n",
    "        print(dec_h)\n",
    "        dec_h = tf.reshape(dec_h, [-1, 7, 7, 32])\n",
    "        print(dec_h)\n",
    "        dec_h = tf.layers.conv2d_transpose(dec_h, 16, kernel_size=[5, 5], strides=[2, 2], padding='same', \n",
    "                             kernel_initializer=initializer, activation=tf.nn.relu, \n",
    "                             name='dec_deconv1')    # 7x7x32 -> 14x14x16\n",
    "        print(dec_h)\n",
    "        dec_h = tf.layers.conv2d_transpose(dec_h, 1, kernel_size=[5, 5], strides=[2, 2], padding='same', \n",
    "                             kernel_initializer=initializer, activation=tf.nn.sigmoid, \n",
    "                             name='dec_deconv2')    # 14x14x16 -> 28x28x1\n",
    "        print(dec_h)\n",
    "        self.out = tf.reshape(dec_h, [-1, 784])\n",
    "    \n",
    "        # Optimizer: sum of generation loss and KL divergence\n",
    "        self.loss_gen = -tf.reduce_sum(self.tgt * tf.log(1e-10 + self.out) + \\\n",
    "                                       (1 - self.tgt) * tf.log(1e-10 + 1 - self.out), \n",
    "                           axis=1)\n",
    "        self.loss_KL = \\\n",
    "            0.5 * tf.reduce_sum(tf.square(self.mu) + tf.square(tf.exp(self.log_sigma)) - \\\n",
    "                                tf.log(tf.square(tf.exp(self.log_sigma))) - 1, axis=1)\n",
    "        self.cost = tf.reduce_mean(tf.add(self.loss_gen, self.loss_KL))\n",
    "        self.optimizer = tf.train.AdamOptimizer(\n",
    "            learning_rate=self.learn_param).minimize(self.cost)\n",
    "        \n",
    "    def make_minibatch(self, data_inp, data_tgt, batch_num):\n",
    "        \"\"\"Form a minibatch from the data\"\"\"\n",
    "        llim = batch_num * self.batch_size\n",
    "        rlim = (batch_num + 1) * self.batch_size\n",
    "        return data_inp[llim:rlim], data_tgt[llim:rlim]\n",
    "    \n",
    "    def evaluate_AE_outputs(self, data_inp, data_tgt):\n",
    "        \"\"\"Run the autoencoder on some data and evaluate the mean squared error\"\"\"\n",
    "        feed_dict = {self.inp: data_inp, self.tgt: data_tgt}\n",
    "        z, outputs, cost = self.sess.run([self.z, self.out, self.cost], feed_dict=feed_dict)\n",
    "        return z, outputs, cost\n",
    "    \n",
    "    def test_random(self, data_inp):\n",
    "        feed_dict = {self.inp: data_inp}\n",
    "        mu, log_sigma, z = self.sess.run([self.mu, self.log_sigma, self.z], feed_dict=feed_dict)\n",
    "        return mu, log_sigma, z\n",
    "\n",
    "    def estimate_plots(self, data_inp, img_nums, savefig=False):\n",
    "        \"\"\"Plot the autoencoder estimates over some images\"\"\"\n",
    "        self.run_size = data_inp.shape[0]\n",
    "        estimates = self.evaluate_AE_outputs(data_inp[img_nums], data_inp[img_nums])[1]\n",
    "        # print(np.round(estimates[0, :10], 20))   # For debugging\n",
    "        inspect_number(estimates, img_nums, savefig=savefig)\n",
    "        \n",
    "    def plot_z(self, data_z, data_labels, savefig=False):\n",
    "        \"\"\"Plot z values in 2-space (if z-space is 2-dimensional)\"\"\"\n",
    "        fig, ax = plt.subplots()\n",
    "        for label in range(10):\n",
    "            data = data_z[data_labels == label]\n",
    "            ax.scatter(data[:, 0], data[:, 1])\n",
    "        ax.set_xlabel('z1')\n",
    "        ax.set_ylabel('z2')\n",
    "        plt.axis('equal')\n",
    "        if savefig:\n",
    "            plt.savefig('z_output_pic.pdf')\n",
    "        plt.show()\n",
    "    \n",
    "    def train_iteration(self, data_inp, data_tgt):\n",
    "        \"\"\"Do one training iteration over the input data\"\"\"\n",
    "        self.run_size = data_inp.shape[0]\n",
    "        feed_dict = {self.inp: data_inp, self.tgt: data_tgt}\n",
    "        _, out = self.sess.run([self.optimizer, self.out], feed_dict=feed_dict)\n",
    "        \n",
    "    def train_full(self, tr_inp, tr_tgt, tst_inp, tst_tgt, num_epochs, \n",
    "                   info=True, infoplots=False):\n",
    "        \"\"\"Train neural network and keep track of progress by (cross) validating\"\"\"\n",
    "        \n",
    "        # batch_size must divide num_tr_points\n",
    "        num_tr_pts = tr_inp.shape[0]\n",
    "        num_tst_pts = tst_inp.shape[0]\n",
    "        num_batches = int(round(num_tr_pts / self.batch_size)) \n",
    "        \n",
    "        # Train the MLP and keep track of the errors across training and testing datasets\n",
    "        batch_nums, epochs, tr_costs, tst_costs = \\\n",
    "                np.array([]), np.array([]), np.array([]), np.array([])\n",
    "        for epoch in range(num_epochs):\n",
    "            for batch_num in range(num_batches):\n",
    "                # Input proportion correctly identified across training, testing dataset\n",
    "                if batch_num % 20 == 0:\n",
    "                    tr_z, tr_out, tr_cost = self.evaluate_AE_outputs(tr_inp, tr_tgt)\n",
    "                    tst_z, tst_out, tst_cost = self.evaluate_AE_outputs(tst_inp, tst_tgt)\n",
    "#                    self.plot_z(tr_z, g_tr_labels)\n",
    "                    if info is True:\n",
    "                        print('Cost after {} batches: Tr {}, Tst {}'.format(\n",
    "                            batch_num, tr_cost, tst_cost))\n",
    "                    if infoplots is True: \n",
    "                        self.estimate_plots(g_tr_data, np.arange(10))\n",
    "                    epochs = np.append(epochs, epoch)\n",
    "                    batch_nums = np.append(batch_nums, batch_num)\n",
    "                    tr_costs = np.append(tr_costs, tr_cost)\n",
    "                    tst_costs = np.append(tst_costs, tst_cost)\n",
    "                \n",
    "                # Do the training over a minibatch\n",
    "                mb_tr_inp, mb_tr_tgt = \\\n",
    "                    self.make_minibatch(tr_inp, tr_tgt, batch_num=batch_num) \n",
    "                self.train_iteration(mb_tr_inp, mb_tr_tgt)    # Single training iteration\n",
    "                \n",
    "        if infoplots is True:\n",
    "            self.estimate_plots(g_tr_data, np.arange(10), savefig=False)\n",
    "#            self.plot_z(tr_z, g_tr_labels, savefig=False)\n",
    "                \n",
    "        costs = pd.DataFrame(np.vstack((epochs, batch_nums, tr_costs, tst_costs)).T, \n",
    "                             columns = ['epoch', 'batch', 'train', 'test'])\n",
    "        return costs"
   ]
  },
  {
   "cell_type": "code",
   "execution_count": null,
   "metadata": {},
   "outputs": [],
   "source": [
    "tf.reset_default_graph()\n",
    "model = AutoEncoder(num_z=10, learn_param=0.01)\n",
    "costs = model.train_full(g_tr_data, g_tr_data, g_tst_data, g_tst_data,\n",
    "                         num_epochs=5, info=False, infoplots=True)"
   ]
  },
  {
   "cell_type": "markdown",
   "metadata": {},
   "source": [
    "# Train model and evaluate"
   ]
  },
  {
   "cell_type": "code",
   "execution_count": null,
   "metadata": {},
   "outputs": [],
   "source": []
  },
  {
   "cell_type": "code",
   "execution_count": null,
   "metadata": {
    "scrolled": true
   },
   "outputs": [],
   "source": []
  },
  {
   "cell_type": "code",
   "execution_count": null,
   "metadata": {},
   "outputs": [],
   "source": []
  },
  {
   "cell_type": "code",
   "execution_count": null,
   "metadata": {},
   "outputs": [],
   "source": []
  }
 ],
 "metadata": {
  "kernelspec": {
   "display_name": "Python 3",
   "language": "python",
   "name": "python3"
  },
  "language_info": {
   "codemirror_mode": {
    "name": "ipython",
    "version": 3
   },
   "file_extension": ".py",
   "mimetype": "text/x-python",
   "name": "python",
   "nbconvert_exporter": "python",
   "pygments_lexer": "ipython3",
   "version": "3.6.0"
  }
 },
 "nbformat": 4,
 "nbformat_minor": 2
}
