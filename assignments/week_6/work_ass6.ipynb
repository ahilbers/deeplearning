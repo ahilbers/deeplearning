{
 "cells": [
  {
   "cell_type": "code",
   "execution_count": null,
   "metadata": {},
   "outputs": [],
   "source": [
    "import numpy as np\n",
    "import pandas as pd\n",
    "import matplotlib.pyplot as plt\n",
    "import time\n",
    "import tensorflow as tf"
   ]
  },
  {
   "cell_type": "markdown",
   "metadata": {
    "collapsed": true
   },
   "source": [
    "# Import and inspect data"
   ]
  },
  {
   "cell_type": "markdown",
   "metadata": {},
   "source": [
    "## Import"
   ]
  },
  {
   "cell_type": "code",
   "execution_count": null,
   "metadata": {},
   "outputs": [],
   "source": [
    "def import_data():\n",
    "    \"\"\"Import training and testing data\"\"\"\n",
    "    \n",
    "    # Import in pandas (np.genfromtxt is too slow)\n",
    "    tr_pd = pd.read_csv('../week_2/data_train.csv', header=None)\n",
    "    tst_pd = pd.read_csv('../week_2/data_test.csv', header=None)\n",
    "    \n",
    "    # Remove labels\n",
    "    tr_data = tr_pd.loc[:, 1:].values\n",
    "    tst_data = tst_pd.loc[:, 1:].values\n",
    "    \n",
    "    return tr_data, tst_data"
   ]
  },
  {
   "cell_type": "code",
   "execution_count": null,
   "metadata": {},
   "outputs": [],
   "source": [
    "g_tr_data, g_tst_data = import_data()\n",
    "g_tr_data = g_tr_data/255\n",
    "g_tst_data = g_tst_data/255"
   ]
  },
  {
   "cell_type": "markdown",
   "metadata": {},
   "source": [
    "## Inspect"
   ]
  },
  {
   "cell_type": "code",
   "execution_count": null,
   "metadata": {},
   "outputs": [],
   "source": [
    "def inspect_number(data, img_nums):\n",
    "    \"\"\"Display image. img_nums should be entered as list.\"\"\"\n",
    "    \n",
    "    num_images = len(img_nums)\n",
    "    # Reshape datasets into pixel array\n",
    "    data_rs = np.reshape(data, newshape=(data.shape[0], 28, 28))\n",
    "    \n",
    "    figsize = (10, 100)\n",
    "    fig, axes = plt.subplots(1, num_images, figsize=figsize)\n",
    "    for k in range(num_images):\n",
    "        ax = axes[img_nums[k]]\n",
    "        ax.imshow(data_rs[img_nums[k]], cmap='Greys')\n",
    "        ax.set_axis_off()\n",
    "    plt.show()"
   ]
  },
  {
   "cell_type": "markdown",
   "metadata": {
    "collapsed": true
   },
   "source": [
    "# Build MLP in Tensorflow"
   ]
  },
  {
   "cell_type": "code",
   "execution_count": null,
   "metadata": {},
   "outputs": [],
   "source": [
    "class AutoEncoder():\n",
    "    \"\"\"Autoencoder. For most examples, self.inp=self.tgt, but these are considered \n",
    "    independent variables to make extensions more straightforward.\"\"\"\n",
    "    \n",
    "    def __init__(self, num_HL_nodes, learn_param):\n",
    "        self.num_HL_nodes = num_HL_nodes    # Number of nodes in HL\n",
    "        self.learn_param = learn_param\n",
    "        \n",
    "        self.inp = tf.placeholder(dtype=tf.float32, shape=[None, 784], name='inputs')\n",
    "        self.tgt = tf.placeholder(dtype=tf.float32, shape=[None, 784], name='targets')\n",
    "        self.sess = tf.Session()\n",
    "        self._build_graph()\n",
    "        self.sess.run(tf.initializers.global_variables())\n",
    "\n",
    "    def _build_graph(self):\n",
    "        \"\"\"Build the neural network\"\"\"\n",
    "        initializer = tf.glorot_uniform_initializer()\n",
    "        \n",
    "        # Encoder\n",
    "        h = tf.layers.dense(self.inp, self.num_HL_nodes, kernel_initializer=initializer, \n",
    "                            activation=None, name='encoder_1')\n",
    "\n",
    "        # Decoder\n",
    "        self.out = tf.layers.dense(h, 784, kernel_initializer=initializer, \n",
    "                                   activation=None, name='decoder_1')  \n",
    "    \n",
    "        # Optimiser: mean squared error\n",
    "        self.cost = tf.reduce_mean(tf.squared_difference(self.out, self.tgt))\n",
    "        self.optimizer = tf.train.AdamOptimizer(\n",
    "            learning_rate=self.learn_param).minimize(self.cost)\n",
    "        \n",
    "    def make_minibatch(self, data_inp, data_tgt, batch_size, batch_num):\n",
    "        \"\"\"Form a minibatch from the data\"\"\"\n",
    "        llim = batch_num * batch_size\n",
    "        rlim = (batch_num + 1) * batch_size\n",
    "        return data_inp[llim:rlim], data_tgt[llim:rlim]\n",
    "    \n",
    "    def evaluate_AE_outputs(self, data_inp, data_tgt):\n",
    "        \"\"\"Run the autoencoder on some data and evaluate the mean squared error\"\"\"\n",
    "        feed_dict = {self.inp: data_inp, self.tgt: data_tgt}\n",
    "        outputs, cost = self.sess.run([self.out, self.cost], feed_dict=feed_dict)\n",
    "        return outputs, cost\n",
    "\n",
    "    def estimate_plots(self, data, img_nums):\n",
    "        \"\"\"Plot the autoencoder estimates over some images\"\"\"\n",
    "        estimates = self.evaluate_AE_outputs(data[img_nums], data[img_nums])[0]\n",
    "#        print(np.round(estimates[0, :10], 3))   # For debugging\n",
    "        inspect_number(estimates, img_nums)\n",
    "    \n",
    "    def train_iteration(self, data_inp, data_tgt):\n",
    "        \"\"\"Do one training iteration over the input data\"\"\"\n",
    "        feed_dict = {self.inp: data_inp, self.tgt: data_tgt}\n",
    "        _, out = self.sess.run([self.optimizer, self.out], feed_dict=feed_dict)\n",
    "        \n",
    "    def train_full(self, tr_inp, tr_tgt, tst_inp, tst_tgt, \n",
    "                   batch_size, num_epochs, info=True, infoplots=False):\n",
    "        \"\"\"Train neural network and keep track of progress by (cross) validating\"\"\"\n",
    "        \n",
    "        # batch_size must divide num_tr_points\n",
    "        num_tr_pts = tr_inp.shape[0]\n",
    "        num_tst_pts = tst_inp.shape[0]\n",
    "        num_batches = int(round(num_tr_pts / batch_size)) \n",
    "        \n",
    "        # Train the MLP and keep track of the errors across training and testing datasets\n",
    "        batch_nums, epochs, tr_costs, tst_costs = \\\n",
    "                np.array([]), np.array([]), np.array([]), np.array([])\n",
    "        for epoch in range(num_epochs):\n",
    "            for batch_num in range(num_batches):\n",
    "                # Input proportion correctly identified across training and testing dataset\n",
    "                if batch_num % 50 == 0:\n",
    "#                if batch_num == 599:\n",
    "                    _, tr_cost = self.evaluate_AE_outputs(tr_inp, tr_tgt)\n",
    "                    _, tst_cost = self.evaluate_AE_outputs(tst_inp, tst_tgt)\n",
    "                    if info is True:\n",
    "                        print('Cost after {} batches: Tr {}, Tst {}'.format(\n",
    "                            batch_num, tr_cost, tst_cost))\n",
    "                    if infoplots is True: \n",
    "                        self.estimate_plots(g_tr_data, np.arange(10))\n",
    "                    epochs = np.append(epochs, epoch)\n",
    "                    batch_nums = np.append(batch_nums, batch_num)\n",
    "                    tr_costs = np.append(tr_costs, tr_cost)\n",
    "                    tst_costs = np.append(tst_costs, tst_cost)\n",
    "                \n",
    "                # Do the training over a minibatch\n",
    "                mb_tr_inp, mb_tr_tgt = \\\n",
    "                    self.make_minibatch(tr_inp, tr_tgt, batch_size=batch_size, \n",
    "                                        batch_num=batch_num) \n",
    "                self.train_iteration(mb_tr_inp, mb_tr_tgt)    # Do single training iteration\n",
    "                \n",
    "        costs = pd.DataFrame(np.vstack((epochs, batch_nums, tr_costs, tst_costs)).T, \n",
    "                             columns = ['epoch', 'batch', 'train', 'test'])\n",
    "        return costs"
   ]
  },
  {
   "cell_type": "markdown",
   "metadata": {},
   "source": [
    "# Train model and evaluate"
   ]
  },
  {
   "cell_type": "code",
   "execution_count": null,
   "metadata": {},
   "outputs": [],
   "source": [
    "def train_AutoEncoder(tr_data, tst_data, num_HL_nodes, num_epochs):\n",
    "    model = AutoEncoder(num_HL_nodes=num_HL_nodes, learn_param=0.01)\n",
    "    costs = model.train_full(tr_data, tr_data, tst_data, tst_data, 100, num_epochs, \n",
    "                                 info=False, infoplots=True)\n",
    "#    model.estimate_plots(tr_data, np.arange(10))    # q: What's going on here?"
   ]
  },
  {
   "cell_type": "code",
   "execution_count": null,
   "metadata": {},
   "outputs": [],
   "source": [
    "tf.reset_default_graph()\n",
    "train_AutoEncoder(g_tr_data, g_tst_data, num_HL_nodes=32, num_epochs=1)"
   ]
  },
  {
   "cell_type": "code",
   "execution_count": null,
   "metadata": {},
   "outputs": [],
   "source": []
  },
  {
   "cell_type": "code",
   "execution_count": null,
   "metadata": {},
   "outputs": [],
   "source": []
  },
  {
   "cell_type": "code",
   "execution_count": null,
   "metadata": {},
   "outputs": [],
   "source": []
  },
  {
   "cell_type": "code",
   "execution_count": null,
   "metadata": {},
   "outputs": [],
   "source": [
    "inspect_number(g_tr_data, np.arange(10))\n",
    "for num_HL_nodes in [1, 5, 10, 15, 20, 25, 30, 35, 40, 45, 50]:\n",
    "    tf.reset_default_graph()\n",
    "    train_AutoEncoder(g_tr_data, g_tst_data, num_HL_nodes=num_HL_nodes, num_epochs=1)"
   ]
  },
  {
   "cell_type": "code",
   "execution_count": null,
   "metadata": {},
   "outputs": [],
   "source": [
    "\"\"\"Important results:\n",
    "\n",
    "                        1 hidden   2 hidden\n",
    "                        layer      layers\n",
    "                        (128)      (128, 64)\n",
    "                        \n",
    "Number of parameters:   101770     109386\n",
    "Time taken (5 epochs):  57.8s      59.5s\n",
    "Final training error:   0.971      0.956\n",
    "Final testing error:    0.962      0.948\n",
    "\n",
    "\"\"\""
   ]
  },
  {
   "cell_type": "code",
   "execution_count": null,
   "metadata": {},
   "outputs": [],
   "source": [
    "\"\"\"Plot training and testing errors\"\"\"\n",
    "\n",
    "fig, (ax1, ax2) = plt.subplots(1, 2, sharey=True)\n",
    "errors_1HL = pd.read_csv('1HL.csv', index_col=[0])\n",
    "errors_2HL = pd.read_csv('2HL.csv', index_col=[0])\n",
    "\n",
    "X = (np.arange(60) + 1) / 12\n",
    "tr_1HL = errors_1HL.loc[:, 'training']\n",
    "tst_1HL = errors_1HL.loc[:, 'testing']\n",
    "tr_2HL = errors_2HL.loc[:, 'training']\n",
    "tst_2HL = errors_2HL.loc[:, 'testing']\n",
    "ax1.plot(X, tr_1HL)\n",
    "ax1.plot(X, tst_1HL)\n",
    "ax2.plot(X, tr_2HL)\n",
    "ax2.plot(X, tst_2HL)\n",
    "ax1.set_xlabel('Runs through dataset')\n",
    "ax2.set_xlabel('Runs through dataset')\n",
    "ax1.set_ylabel('Proportion correct')\n",
    "ax1.set_title('1 Hidden layer')\n",
    "ax2.set_title('2 Hidden layers')\n",
    "ax1.legend()\n",
    "ax2.legend()\n",
    "plt.savefig('Errors')"
   ]
  }
 ],
 "metadata": {
  "kernelspec": {
   "display_name": "Python 3",
   "language": "python",
   "name": "python3"
  },
  "language_info": {
   "codemirror_mode": {
    "name": "ipython",
    "version": 3
   },
   "file_extension": ".py",
   "mimetype": "text/x-python",
   "name": "python",
   "nbconvert_exporter": "python",
   "pygments_lexer": "ipython3",
   "version": "3.6.0"
  }
 },
 "nbformat": 4,
 "nbformat_minor": 2
}
