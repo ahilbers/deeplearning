{
 "cells": [
  {
   "cell_type": "code",
   "execution_count": 2,
   "metadata": {},
   "outputs": [],
   "source": [
    "import numpy as np\n",
    "import pandas as pd\n",
    "import matplotlib.pyplot as plt\n",
    "import time\n",
    "import tensorflow as tf"
   ]
  },
  {
   "cell_type": "markdown",
   "metadata": {
    "collapsed": true
   },
   "source": [
    "# Import and inspect data"
   ]
  },
  {
   "cell_type": "markdown",
   "metadata": {},
   "source": [
    "## Import"
   ]
  },
  {
   "cell_type": "code",
   "execution_count": 3,
   "metadata": {},
   "outputs": [],
   "source": [
    "def import_data():\n",
    "    \"\"\"Import training and testing data, as data and labels\"\"\"\n",
    "    \n",
    "    # Import in pandas (np.genfromtxt is too slow)\n",
    "    tr_pd = pd.read_csv('data_train.csv', header=None)\n",
    "    tst_pd = pd.read_csv('data_test.csv', header=None)\n",
    "    \n",
    "    # Split data and labels\n",
    "    tr_data = tr_pd.loc[:, 1:].values\n",
    "    tr_labels = tr_pd.loc[:, 0].values\n",
    "    tst_data = tst_pd.loc[:, 1:].values\n",
    "    tst_labels = tst_pd.loc[:, 0].values\n",
    "    \n",
    "    return tr_data, tst_data, tr_labels, tst_labels"
   ]
  },
  {
   "cell_type": "code",
   "execution_count": 4,
   "metadata": {},
   "outputs": [],
   "source": [
    "def make_onehot(labels):\n",
    "    \"\"\"Change numbers 0-9 to unit vectors along the first 10 axes.\"\"\"\n",
    "    \n",
    "    labels_onehot = np.zeros(shape=(labels.shape[0], 10))\n",
    "    for num in range(labels.shape[0]):\n",
    "        labels_onehot[num, labels[num]] = 1.0\n",
    "    \n",
    "    return labels_onehot"
   ]
  },
  {
   "cell_type": "code",
   "execution_count": 5,
   "metadata": {},
   "outputs": [],
   "source": [
    "g_tr_data, g_tst_data, g_tr_labels, g_tst_labels = import_data()\n",
    "g_tr_data = g_tr_data/255\n",
    "g_tst_data = g_tst_data/255\n",
    "g_tr_labels_oh = make_onehot(g_tr_labels)\n",
    "g_tst_labels_oh = make_onehot(g_tst_labels)"
   ]
  },
  {
   "cell_type": "markdown",
   "metadata": {},
   "source": [
    "## Inspect"
   ]
  },
  {
   "cell_type": "code",
   "execution_count": 6,
   "metadata": {},
   "outputs": [],
   "source": [
    "def inspect_number(data, labels, imagenum, probs=None):\n",
    "    \"\"\"Make a function that displays the image. If a vector of onehot vectors is \n",
    "    also inputted, then a bar plot of these probabilities is shown.\"\"\"\n",
    "    \n",
    "    # Reshape the datasets\n",
    "    plot_data = np.reshape(data, newshape=(data.shape[0], 28, 28))\n",
    "    \n",
    "    # If there are no probabilites entered, just plot the picture\n",
    "    if probs == None:\n",
    "        print(labels[imagenum])\n",
    "        fig, ax = plt.subplots()\n",
    "        ax.imshow(plot_data[imagenum], cmap='Greys')\n",
    "        plt.show()\n",
    "    \n",
    "    # When probabilities are entered, plot the picture and the \n",
    "    # probability that it is each number\n",
    "    else:\n",
    "        print(labels[imagenum])\n",
    "        fig, (ax1, ax2) = plt.subplots(1, 2)\n",
    "        ax1.imshow(plot_data[imagenum], cmap='Greys')\n",
    "        ax2.bar(np.arange(10), probs)\n",
    "        asp = np.diff(ax2.get_xlim())[0] / np.diff(ax2.get_ylim())[0]\n",
    "        ax2.set_aspect(asp)\n",
    "        plt.show()"
   ]
  },
  {
   "cell_type": "markdown",
   "metadata": {
    "collapsed": true
   },
   "source": [
    "# Build MLP in Tensorflow"
   ]
  },
  {
   "cell_type": "code",
   "execution_count": 7,
   "metadata": {},
   "outputs": [],
   "source": [
    "tf.reset_default_graph()    # Sometimes solves issues \n",
    "\n",
    "class MLP():\n",
    "    def __init__(self, learn_param):\n",
    "        self.learn_param = learn_param\n",
    "        \n",
    "        self.inp = tf.placeholder(dtype=tf.float32, shape=[None, 784], name='inputs')\n",
    "        self.tgt = tf.placeholder(dtype=tf.float32, shape=[None, 10], name='targets')\n",
    "        self.sess = tf.Session()\n",
    "        self._build_graph()\n",
    "        self.sess.run(tf.initializers.global_variables())\n",
    "        \n",
    "    \n",
    "    def _build_graph(self):\n",
    "        \"\"\"Build the neural network\"\"\"\n",
    "        \n",
    "        initializer = tf.glorot_uniform_initializer()\n",
    "        \n",
    "        # The neural network\n",
    "        h = tf.layers.dense(self.inp, 128, kernel_initializer=initializer, \\\n",
    "                activation=tf.tanh, name='1')\n",
    "        h = tf.layers.dense(h, 64, kernel_initializer=initializer, \\\n",
    "                activation=tf.tanh, name='2')\n",
    "        self.logits = tf.layers.dense(h, 10, kernel_initializer=initializer, \\\n",
    "                activation=tf.identity, name='3')\n",
    "        self.softmax = tf.nn.softmax(self.logits)\n",
    "        \n",
    "        # Optimiser: softmax cross entropy\n",
    "        CE = tf.nn.softmax_cross_entropy_with_logits_v2(labels=self.tgt, logits=self.logits)\n",
    "        self.cost = tf.reduce_mean(CE)\n",
    "        self.optimizer = tf.train.AdamOptimizer(\\\n",
    "                learning_rate=self.learn_param).minimize(self.cost)\n",
    "        \n",
    "        \n",
    "    def make_minibatch(self, data, labels, batch_size, batch_num):\n",
    "        \"\"\"Form a minibatch from the data\"\"\"\n",
    "        \n",
    "        llim = batch_num * batch_size\n",
    "        rlim = (batch_num + 1) * batch_size\n",
    "        return data[llim:rlim], labels[llim:rlim]\n",
    "    \n",
    "    \n",
    "    def evaluate_MLP_outputs(self, data):\n",
    "        \"\"\"Run the feedforward NN on some data\"\"\"\n",
    "        \n",
    "        feed_dict = {self.inp: data}\n",
    "        outputs = self.sess.run(self.softmax, feed_dict=feed_dict)\n",
    "        return outputs\n",
    "    \n",
    "    \n",
    "    def calc_frac_correct(self, data, labels):\n",
    "        \"\"\"Determine the number of correctly idenfitied pictures across a dataset\"\"\"\n",
    "        \n",
    "        num_pts = data.shape[0]\n",
    "        estimates_sm = self.evaluate_MLP_outputs(data)\n",
    "        estimates = np.argmax(estimates_sm, axis=1)    # Argmax over softmax = estimates\n",
    "        fraction_correct = 1 - len(np.nonzero(estimates - labels)[0])/num_pts\n",
    "        return fraction_correct\n",
    "    \n",
    "    \n",
    "    def train_iteration(self, data, labels_oh):\n",
    "        \"\"\"Do one training iteration\"\"\"\n",
    "        \n",
    "        feed_dict = {self.inp: data, self.tgt: labels_oh}\n",
    "        _, out = self.sess.run([self.optimizer, self.softmax], feed_dict=feed_dict)\n",
    "        \n",
    "        \n",
    "    def train_full(self, tr_data, tr_labels, tst_data, tst_labels, batch_size, num_epochs):\n",
    "        \"\"\"Train the neural network and keep track of progress by (cross) validating\"\"\"\n",
    "        \n",
    "        tr_labels_oh = make_onehot(tr_labels)\n",
    "        tst_labels_oh = make_onehot(tst_labels)\n",
    "        \n",
    "        # batch_size must divide num_tr_points\n",
    "        num_tr_pts = tr_data.shape[0]\n",
    "        num_tst_pts = tst_data.shape[0]\n",
    "        num_batches = int(round(num_tr_pts / batch_size)) \n",
    "        \n",
    "        # Train the MLP and keep track of the errors across training and testing datasets\n",
    "        batch_nums, epochs, tr_accs, tst_accs = \\\n",
    "                np.array([]), np.array([]), np.array([]), np.array([])\n",
    "        for epoch in range(num_epochs):\n",
    "            for batch_num in range(num_batches):\n",
    "                # Input proportion correctly identified across training and testing dataset\n",
    "                if batch_num % 50 == 0:\n",
    "                    tr_acc = self.calc_frac_correct(tr_data, tr_labels)\n",
    "                    tst_acc = self.calc_frac_correct(tst_data, tst_labels)\n",
    "                    print('Training accuracy after {} batches: {}'.format(batch_num, tr_acc))\n",
    "                    epochs = np.append(epochs, epoch)\n",
    "                    batch_nums = np.append(batch_nums, batch_num)\n",
    "                    tr_accs = np.append(tr_accs, tr_acc)\n",
    "                    tst_accs = np.append(tst_accs, tst_acc)\n",
    "                \n",
    "                # Do the training\n",
    "                mb_data, mb_labels_oh = self.make_minibatch(tr_data, tr_labels_oh, \\\n",
    "                        batch_size=batch_size, batch_num=batch_num)    # Make minibatch\n",
    "                self.train_iteration(mb_data, mb_labels_oh)    # Do single training iteration\n",
    "                \n",
    "        accuracies = np.vstack((epochs, batch_nums, tr_accs, tst_accs)).T\n",
    "        return accuracies"
   ]
  },
  {
   "cell_type": "code",
   "execution_count": 14,
   "metadata": {},
   "outputs": [],
   "source": [
    "tf.reset_default_graph()    # Sometimes solves issues\n",
    "def train_MLP_NN():\n",
    "    model = MLP(learn_param=0.01)\n",
    "#    accuracies = model.train_full(g_tr_data, g_tr_labels, g_tst_data, g_tst_labels, 100, 2)\n",
    "#    accuracies = pd.DataFrame(accuracies, columns = ['epoch', 'batch', 'train', 'test'])\n",
    "#    return accuracies\n",
    "train_MLP_NN()"
   ]
  },
  {
   "cell_type": "code",
   "execution_count": 15,
   "metadata": {},
   "outputs": [
    {
     "data": {
      "text/plain": [
       "[<tf.Variable '1/kernel:0' shape=(784, 128) dtype=float32_ref>,\n",
       " <tf.Variable '1/bias:0' shape=(128,) dtype=float32_ref>,\n",
       " <tf.Variable '2/kernel:0' shape=(128, 64) dtype=float32_ref>,\n",
       " <tf.Variable '2/bias:0' shape=(64,) dtype=float32_ref>,\n",
       " <tf.Variable '3/kernel:0' shape=(64, 10) dtype=float32_ref>,\n",
       " <tf.Variable '3/bias:0' shape=(10,) dtype=float32_ref>,\n",
       " <tf.Variable 'beta1_power:0' shape=() dtype=float32_ref>,\n",
       " <tf.Variable 'beta2_power:0' shape=() dtype=float32_ref>,\n",
       " <tf.Variable '1/kernel/Adam:0' shape=(784, 128) dtype=float32_ref>,\n",
       " <tf.Variable '1/kernel/Adam_1:0' shape=(784, 128) dtype=float32_ref>,\n",
       " <tf.Variable '1/bias/Adam:0' shape=(128,) dtype=float32_ref>,\n",
       " <tf.Variable '1/bias/Adam_1:0' shape=(128,) dtype=float32_ref>,\n",
       " <tf.Variable '2/kernel/Adam:0' shape=(128, 64) dtype=float32_ref>,\n",
       " <tf.Variable '2/kernel/Adam_1:0' shape=(128, 64) dtype=float32_ref>,\n",
       " <tf.Variable '2/bias/Adam:0' shape=(64,) dtype=float32_ref>,\n",
       " <tf.Variable '2/bias/Adam_1:0' shape=(64,) dtype=float32_ref>,\n",
       " <tf.Variable '3/kernel/Adam:0' shape=(64, 10) dtype=float32_ref>,\n",
       " <tf.Variable '3/kernel/Adam_1:0' shape=(64, 10) dtype=float32_ref>,\n",
       " <tf.Variable '3/bias/Adam:0' shape=(10,) dtype=float32_ref>,\n",
       " <tf.Variable '3/bias/Adam_1:0' shape=(10,) dtype=float32_ref>]"
      ]
     },
     "execution_count": 15,
     "metadata": {},
     "output_type": "execute_result"
    }
   ],
   "source": [
    "tf.global_variables()"
   ]
  },
  {
   "cell_type": "code",
   "execution_count": 10,
   "metadata": {},
   "outputs": [
    {
     "ename": "ValueError",
     "evalue": "Variable 1/kernel already exists, disallowed. Did you mean to set reuse=True or reuse=tf.AUTO_REUSE in VarScope? Originally defined at:\n\n  File \"<ipython-input-7-a9ba66ab60c2>\", line 21, in _build_graph\n    activation=tf.tanh, name='1')\n  File \"<ipython-input-7-a9ba66ab60c2>\", line 10, in __init__\n    self._build_graph()\n  File \"<ipython-input-8-d3a9e7d78151>\", line 3, in train_MLP_NN\n    model = MLP(learn_param=0.01)\n",
     "output_type": "error",
     "traceback": [
      "\u001b[0;31m---------------------------------------------------------------------------\u001b[0m",
      "\u001b[0;31mValueError\u001b[0m                                Traceback (most recent call last)",
      "\u001b[0;32m<ipython-input-10-dd70ca0ad33f>\u001b[0m in \u001b[0;36m<module>\u001b[0;34m\u001b[0m\n\u001b[0;32m----> 1\u001b[0;31m \u001b[0mtrain_MLP_NN\u001b[0m\u001b[0;34m(\u001b[0m\u001b[0;34m)\u001b[0m\u001b[0;34m\u001b[0m\u001b[0m\n\u001b[0m",
      "\u001b[0;32m<ipython-input-8-d3a9e7d78151>\u001b[0m in \u001b[0;36mtrain_MLP_NN\u001b[0;34m()\u001b[0m\n\u001b[1;32m      1\u001b[0m \u001b[0mtf\u001b[0m\u001b[0;34m.\u001b[0m\u001b[0mreset_default_graph\u001b[0m\u001b[0;34m(\u001b[0m\u001b[0;34m)\u001b[0m    \u001b[0;31m# Sometimes solves issues\u001b[0m\u001b[0;34m\u001b[0m\u001b[0m\n\u001b[1;32m      2\u001b[0m \u001b[0;32mdef\u001b[0m \u001b[0mtrain_MLP_NN\u001b[0m\u001b[0;34m(\u001b[0m\u001b[0;34m)\u001b[0m\u001b[0;34m:\u001b[0m\u001b[0;34m\u001b[0m\u001b[0m\n\u001b[0;32m----> 3\u001b[0;31m     \u001b[0mmodel\u001b[0m \u001b[0;34m=\u001b[0m \u001b[0mMLP\u001b[0m\u001b[0;34m(\u001b[0m\u001b[0mlearn_param\u001b[0m\u001b[0;34m=\u001b[0m\u001b[0;36m0.01\u001b[0m\u001b[0;34m)\u001b[0m\u001b[0;34m\u001b[0m\u001b[0m\n\u001b[0m\u001b[1;32m      4\u001b[0m     \u001b[0maccuracies\u001b[0m \u001b[0;34m=\u001b[0m \u001b[0mmodel\u001b[0m\u001b[0;34m.\u001b[0m\u001b[0mtrain_full\u001b[0m\u001b[0;34m(\u001b[0m\u001b[0mg_tr_data\u001b[0m\u001b[0;34m,\u001b[0m \u001b[0mg_tr_labels\u001b[0m\u001b[0;34m,\u001b[0m \u001b[0mg_tst_data\u001b[0m\u001b[0;34m,\u001b[0m \u001b[0mg_tst_labels\u001b[0m\u001b[0;34m,\u001b[0m \u001b[0;36m100\u001b[0m\u001b[0;34m,\u001b[0m \u001b[0;36m2\u001b[0m\u001b[0;34m)\u001b[0m\u001b[0;34m\u001b[0m\u001b[0m\n\u001b[1;32m      5\u001b[0m     \u001b[0maccuracies\u001b[0m \u001b[0;34m=\u001b[0m \u001b[0mpd\u001b[0m\u001b[0;34m.\u001b[0m\u001b[0mDataFrame\u001b[0m\u001b[0;34m(\u001b[0m\u001b[0maccuracies\u001b[0m\u001b[0;34m,\u001b[0m \u001b[0mcolumns\u001b[0m \u001b[0;34m=\u001b[0m \u001b[0;34m[\u001b[0m\u001b[0;34m'epoch'\u001b[0m\u001b[0;34m,\u001b[0m \u001b[0;34m'batch'\u001b[0m\u001b[0;34m,\u001b[0m \u001b[0;34m'train'\u001b[0m\u001b[0;34m,\u001b[0m \u001b[0;34m'test'\u001b[0m\u001b[0;34m]\u001b[0m\u001b[0;34m)\u001b[0m\u001b[0;34m\u001b[0m\u001b[0m\n",
      "\u001b[0;32m<ipython-input-7-a9ba66ab60c2>\u001b[0m in \u001b[0;36m__init__\u001b[0;34m(self, learn_param)\u001b[0m\n\u001b[1;32m      8\u001b[0m         \u001b[0mself\u001b[0m\u001b[0;34m.\u001b[0m\u001b[0mtgt\u001b[0m \u001b[0;34m=\u001b[0m \u001b[0mtf\u001b[0m\u001b[0;34m.\u001b[0m\u001b[0mplaceholder\u001b[0m\u001b[0;34m(\u001b[0m\u001b[0mdtype\u001b[0m\u001b[0;34m=\u001b[0m\u001b[0mtf\u001b[0m\u001b[0;34m.\u001b[0m\u001b[0mfloat32\u001b[0m\u001b[0;34m,\u001b[0m \u001b[0mshape\u001b[0m\u001b[0;34m=\u001b[0m\u001b[0;34m[\u001b[0m\u001b[0;32mNone\u001b[0m\u001b[0;34m,\u001b[0m \u001b[0;36m10\u001b[0m\u001b[0;34m]\u001b[0m\u001b[0;34m,\u001b[0m \u001b[0mname\u001b[0m\u001b[0;34m=\u001b[0m\u001b[0;34m'targets'\u001b[0m\u001b[0;34m)\u001b[0m\u001b[0;34m\u001b[0m\u001b[0m\n\u001b[1;32m      9\u001b[0m         \u001b[0mself\u001b[0m\u001b[0;34m.\u001b[0m\u001b[0msess\u001b[0m \u001b[0;34m=\u001b[0m \u001b[0mtf\u001b[0m\u001b[0;34m.\u001b[0m\u001b[0mSession\u001b[0m\u001b[0;34m(\u001b[0m\u001b[0;34m)\u001b[0m\u001b[0;34m\u001b[0m\u001b[0m\n\u001b[0;32m---> 10\u001b[0;31m         \u001b[0mself\u001b[0m\u001b[0;34m.\u001b[0m\u001b[0m_build_graph\u001b[0m\u001b[0;34m(\u001b[0m\u001b[0;34m)\u001b[0m\u001b[0;34m\u001b[0m\u001b[0m\n\u001b[0m\u001b[1;32m     11\u001b[0m         \u001b[0mself\u001b[0m\u001b[0;34m.\u001b[0m\u001b[0msess\u001b[0m\u001b[0;34m.\u001b[0m\u001b[0mrun\u001b[0m\u001b[0;34m(\u001b[0m\u001b[0mtf\u001b[0m\u001b[0;34m.\u001b[0m\u001b[0minitializers\u001b[0m\u001b[0;34m.\u001b[0m\u001b[0mglobal_variables\u001b[0m\u001b[0;34m(\u001b[0m\u001b[0;34m)\u001b[0m\u001b[0;34m)\u001b[0m\u001b[0;34m\u001b[0m\u001b[0m\n\u001b[1;32m     12\u001b[0m \u001b[0;34m\u001b[0m\u001b[0m\n",
      "\u001b[0;32m<ipython-input-7-a9ba66ab60c2>\u001b[0m in \u001b[0;36m_build_graph\u001b[0;34m(self)\u001b[0m\n\u001b[1;32m     19\u001b[0m         \u001b[0;31m# The neural network\u001b[0m\u001b[0;34m\u001b[0m\u001b[0;34m\u001b[0m\u001b[0m\n\u001b[1;32m     20\u001b[0m         h = tf.layers.dense(self.inp, 128, kernel_initializer=initializer, \\\n\u001b[0;32m---> 21\u001b[0;31m                 activation=tf.tanh, name='1')\n\u001b[0m\u001b[1;32m     22\u001b[0m         h = tf.layers.dense(h, 64, kernel_initializer=initializer, \\\n\u001b[1;32m     23\u001b[0m                 activation=tf.tanh, name='2')\n",
      "\u001b[0;32m~/anaconda3/lib/python3.6/site-packages/tensorflow/python/layers/core.py\u001b[0m in \u001b[0;36mdense\u001b[0;34m(inputs, units, activation, use_bias, kernel_initializer, bias_initializer, kernel_regularizer, bias_regularizer, activity_regularizer, kernel_constraint, bias_constraint, trainable, name, reuse)\u001b[0m\n\u001b[1;32m    182\u001b[0m                 \u001b[0m_scope\u001b[0m\u001b[0;34m=\u001b[0m\u001b[0mname\u001b[0m\u001b[0;34m,\u001b[0m\u001b[0;34m\u001b[0m\u001b[0m\n\u001b[1;32m    183\u001b[0m                 _reuse=reuse)\n\u001b[0;32m--> 184\u001b[0;31m   \u001b[0;32mreturn\u001b[0m \u001b[0mlayer\u001b[0m\u001b[0;34m.\u001b[0m\u001b[0mapply\u001b[0m\u001b[0;34m(\u001b[0m\u001b[0minputs\u001b[0m\u001b[0;34m)\u001b[0m\u001b[0;34m\u001b[0m\u001b[0m\n\u001b[0m\u001b[1;32m    185\u001b[0m \u001b[0;34m\u001b[0m\u001b[0m\n\u001b[1;32m    186\u001b[0m \u001b[0;34m\u001b[0m\u001b[0m\n",
      "\u001b[0;32m~/anaconda3/lib/python3.6/site-packages/tensorflow/python/keras/engine/base_layer.py\u001b[0m in \u001b[0;36mapply\u001b[0;34m(self, inputs, *args, **kwargs)\u001b[0m\n\u001b[1;32m    815\u001b[0m       \u001b[0mOutput\u001b[0m \u001b[0mtensor\u001b[0m\u001b[0;34m(\u001b[0m\u001b[0ms\u001b[0m\u001b[0;34m)\u001b[0m\u001b[0;34m.\u001b[0m\u001b[0;34m\u001b[0m\u001b[0m\n\u001b[1;32m    816\u001b[0m     \"\"\"\n\u001b[0;32m--> 817\u001b[0;31m     \u001b[0;32mreturn\u001b[0m \u001b[0mself\u001b[0m\u001b[0;34m.\u001b[0m\u001b[0m__call__\u001b[0m\u001b[0;34m(\u001b[0m\u001b[0minputs\u001b[0m\u001b[0;34m,\u001b[0m \u001b[0;34m*\u001b[0m\u001b[0margs\u001b[0m\u001b[0;34m,\u001b[0m \u001b[0;34m**\u001b[0m\u001b[0mkwargs\u001b[0m\u001b[0;34m)\u001b[0m\u001b[0;34m\u001b[0m\u001b[0m\n\u001b[0m\u001b[1;32m    818\u001b[0m \u001b[0;34m\u001b[0m\u001b[0m\n\u001b[1;32m    819\u001b[0m   \u001b[0;32mdef\u001b[0m \u001b[0m_set_learning_phase_metadata\u001b[0m\u001b[0;34m(\u001b[0m\u001b[0mself\u001b[0m\u001b[0;34m,\u001b[0m \u001b[0minputs\u001b[0m\u001b[0;34m,\u001b[0m \u001b[0moutputs\u001b[0m\u001b[0;34m)\u001b[0m\u001b[0;34m:\u001b[0m\u001b[0;34m\u001b[0m\u001b[0m\n",
      "\u001b[0;32m~/anaconda3/lib/python3.6/site-packages/tensorflow/python/layers/base.py\u001b[0m in \u001b[0;36m__call__\u001b[0;34m(self, inputs, *args, **kwargs)\u001b[0m\n\u001b[1;32m    372\u001b[0m \u001b[0;34m\u001b[0m\u001b[0m\n\u001b[1;32m    373\u001b[0m       \u001b[0;31m# Actually call layer\u001b[0m\u001b[0;34m\u001b[0m\u001b[0;34m\u001b[0m\u001b[0m\n\u001b[0;32m--> 374\u001b[0;31m       \u001b[0moutputs\u001b[0m \u001b[0;34m=\u001b[0m \u001b[0msuper\u001b[0m\u001b[0;34m(\u001b[0m\u001b[0mLayer\u001b[0m\u001b[0;34m,\u001b[0m \u001b[0mself\u001b[0m\u001b[0;34m)\u001b[0m\u001b[0;34m.\u001b[0m\u001b[0m__call__\u001b[0m\u001b[0;34m(\u001b[0m\u001b[0minputs\u001b[0m\u001b[0;34m,\u001b[0m \u001b[0;34m*\u001b[0m\u001b[0margs\u001b[0m\u001b[0;34m,\u001b[0m \u001b[0;34m**\u001b[0m\u001b[0mkwargs\u001b[0m\u001b[0;34m)\u001b[0m\u001b[0;34m\u001b[0m\u001b[0m\n\u001b[0m\u001b[1;32m    375\u001b[0m \u001b[0;34m\u001b[0m\u001b[0m\n\u001b[1;32m    376\u001b[0m     \u001b[0;32mif\u001b[0m \u001b[0;32mnot\u001b[0m \u001b[0mcontext\u001b[0m\u001b[0;34m.\u001b[0m\u001b[0mexecuting_eagerly\u001b[0m\u001b[0;34m(\u001b[0m\u001b[0;34m)\u001b[0m\u001b[0;34m:\u001b[0m\u001b[0;34m\u001b[0m\u001b[0m\n",
      "\u001b[0;32m~/anaconda3/lib/python3.6/site-packages/tensorflow/python/keras/engine/base_layer.py\u001b[0m in \u001b[0;36m__call__\u001b[0;34m(self, inputs, *args, **kwargs)\u001b[0m\n\u001b[1;32m    744\u001b[0m           \u001b[0;31m# the user has manually overwritten the build method do we need to\u001b[0m\u001b[0;34m\u001b[0m\u001b[0;34m\u001b[0m\u001b[0m\n\u001b[1;32m    745\u001b[0m           \u001b[0;31m# build it.\u001b[0m\u001b[0;34m\u001b[0m\u001b[0;34m\u001b[0m\u001b[0m\n\u001b[0;32m--> 746\u001b[0;31m           \u001b[0mself\u001b[0m\u001b[0;34m.\u001b[0m\u001b[0mbuild\u001b[0m\u001b[0;34m(\u001b[0m\u001b[0minput_shapes\u001b[0m\u001b[0;34m)\u001b[0m\u001b[0;34m\u001b[0m\u001b[0m\n\u001b[0m\u001b[1;32m    747\u001b[0m         \u001b[0;31m# We must set self.built since user defined build functions are not\u001b[0m\u001b[0;34m\u001b[0m\u001b[0;34m\u001b[0m\u001b[0m\n\u001b[1;32m    748\u001b[0m         \u001b[0;31m# constrained to set self.built.\u001b[0m\u001b[0;34m\u001b[0m\u001b[0;34m\u001b[0m\u001b[0m\n",
      "\u001b[0;32m~/anaconda3/lib/python3.6/site-packages/tensorflow/python/keras/layers/core.py\u001b[0m in \u001b[0;36mbuild\u001b[0;34m(self, input_shape)\u001b[0m\n\u001b[1;32m    942\u001b[0m         \u001b[0mconstraint\u001b[0m\u001b[0;34m=\u001b[0m\u001b[0mself\u001b[0m\u001b[0;34m.\u001b[0m\u001b[0mkernel_constraint\u001b[0m\u001b[0;34m,\u001b[0m\u001b[0;34m\u001b[0m\u001b[0m\n\u001b[1;32m    943\u001b[0m         \u001b[0mdtype\u001b[0m\u001b[0;34m=\u001b[0m\u001b[0mself\u001b[0m\u001b[0;34m.\u001b[0m\u001b[0mdtype\u001b[0m\u001b[0;34m,\u001b[0m\u001b[0;34m\u001b[0m\u001b[0m\n\u001b[0;32m--> 944\u001b[0;31m         trainable=True)\n\u001b[0m\u001b[1;32m    945\u001b[0m     \u001b[0;32mif\u001b[0m \u001b[0mself\u001b[0m\u001b[0;34m.\u001b[0m\u001b[0muse_bias\u001b[0m\u001b[0;34m:\u001b[0m\u001b[0;34m\u001b[0m\u001b[0m\n\u001b[1;32m    946\u001b[0m       self.bias = self.add_weight(\n",
      "\u001b[0;32m~/anaconda3/lib/python3.6/site-packages/tensorflow/python/layers/base.py\u001b[0m in \u001b[0;36madd_weight\u001b[0;34m(self, name, shape, dtype, initializer, regularizer, trainable, constraint, use_resource, synchronization, aggregation, partitioner)\u001b[0m\n\u001b[1;32m    286\u001b[0m             \u001b[0msynchronization\u001b[0m\u001b[0;34m=\u001b[0m\u001b[0msynchronization\u001b[0m\u001b[0;34m,\u001b[0m\u001b[0;34m\u001b[0m\u001b[0m\n\u001b[1;32m    287\u001b[0m             \u001b[0maggregation\u001b[0m\u001b[0;34m=\u001b[0m\u001b[0maggregation\u001b[0m\u001b[0;34m,\u001b[0m\u001b[0;34m\u001b[0m\u001b[0m\n\u001b[0;32m--> 288\u001b[0;31m             getter=vs.get_variable)\n\u001b[0m\u001b[1;32m    289\u001b[0m \u001b[0;34m\u001b[0m\u001b[0m\n\u001b[1;32m    290\u001b[0m         \u001b[0;32mif\u001b[0m \u001b[0mregularizer\u001b[0m\u001b[0;34m:\u001b[0m\u001b[0;34m\u001b[0m\u001b[0m\n",
      "\u001b[0;32m~/anaconda3/lib/python3.6/site-packages/tensorflow/python/keras/engine/base_layer.py\u001b[0m in \u001b[0;36madd_weight\u001b[0;34m(self, name, shape, dtype, initializer, regularizer, trainable, constraint, partitioner, use_resource, synchronization, aggregation, **kwargs)\u001b[0m\n\u001b[1;32m    607\u001b[0m         \u001b[0mcollections\u001b[0m\u001b[0;34m=\u001b[0m\u001b[0mcollections\u001b[0m\u001b[0;34m,\u001b[0m\u001b[0;34m\u001b[0m\u001b[0m\n\u001b[1;32m    608\u001b[0m         \u001b[0msynchronization\u001b[0m\u001b[0;34m=\u001b[0m\u001b[0msynchronization\u001b[0m\u001b[0;34m,\u001b[0m\u001b[0;34m\u001b[0m\u001b[0m\n\u001b[0;32m--> 609\u001b[0;31m         aggregation=aggregation)\n\u001b[0m\u001b[1;32m    610\u001b[0m     \u001b[0mbackend\u001b[0m\u001b[0;34m.\u001b[0m\u001b[0mtrack_variable\u001b[0m\u001b[0;34m(\u001b[0m\u001b[0mvariable\u001b[0m\u001b[0;34m)\u001b[0m\u001b[0;34m\u001b[0m\u001b[0m\n\u001b[1;32m    611\u001b[0m \u001b[0;34m\u001b[0m\u001b[0m\n",
      "\u001b[0;32m~/anaconda3/lib/python3.6/site-packages/tensorflow/python/training/checkpointable/base.py\u001b[0m in \u001b[0;36m_add_variable_with_custom_getter\u001b[0;34m(self, name, shape, dtype, initializer, getter, overwrite, **kwargs_for_getter)\u001b[0m\n\u001b[1;32m    637\u001b[0m     new_variable = getter(\n\u001b[1;32m    638\u001b[0m         \u001b[0mname\u001b[0m\u001b[0;34m=\u001b[0m\u001b[0mname\u001b[0m\u001b[0;34m,\u001b[0m \u001b[0mshape\u001b[0m\u001b[0;34m=\u001b[0m\u001b[0mshape\u001b[0m\u001b[0;34m,\u001b[0m \u001b[0mdtype\u001b[0m\u001b[0;34m=\u001b[0m\u001b[0mdtype\u001b[0m\u001b[0;34m,\u001b[0m \u001b[0minitializer\u001b[0m\u001b[0;34m=\u001b[0m\u001b[0minitializer\u001b[0m\u001b[0;34m,\u001b[0m\u001b[0;34m\u001b[0m\u001b[0m\n\u001b[0;32m--> 639\u001b[0;31m         **kwargs_for_getter)\n\u001b[0m\u001b[1;32m    640\u001b[0m \u001b[0;34m\u001b[0m\u001b[0m\n\u001b[1;32m    641\u001b[0m     \u001b[0;31m# If we set an initializer and the variable processed it, tracking will not\u001b[0m\u001b[0;34m\u001b[0m\u001b[0;34m\u001b[0m\u001b[0m\n",
      "\u001b[0;32m~/anaconda3/lib/python3.6/site-packages/tensorflow/python/ops/variable_scope.py\u001b[0m in \u001b[0;36mget_variable\u001b[0;34m(name, shape, dtype, initializer, regularizer, trainable, collections, caching_device, partitioner, validate_shape, use_resource, custom_getter, constraint, synchronization, aggregation)\u001b[0m\n\u001b[1;32m   1485\u001b[0m       \u001b[0mconstraint\u001b[0m\u001b[0;34m=\u001b[0m\u001b[0mconstraint\u001b[0m\u001b[0;34m,\u001b[0m\u001b[0;34m\u001b[0m\u001b[0m\n\u001b[1;32m   1486\u001b[0m       \u001b[0msynchronization\u001b[0m\u001b[0;34m=\u001b[0m\u001b[0msynchronization\u001b[0m\u001b[0;34m,\u001b[0m\u001b[0;34m\u001b[0m\u001b[0m\n\u001b[0;32m-> 1487\u001b[0;31m       aggregation=aggregation)\n\u001b[0m\u001b[1;32m   1488\u001b[0m \u001b[0;34m\u001b[0m\u001b[0m\n\u001b[1;32m   1489\u001b[0m \u001b[0;34m\u001b[0m\u001b[0m\n",
      "\u001b[0;32m~/anaconda3/lib/python3.6/site-packages/tensorflow/python/ops/variable_scope.py\u001b[0m in \u001b[0;36mget_variable\u001b[0;34m(self, var_store, name, shape, dtype, initializer, regularizer, reuse, trainable, collections, caching_device, partitioner, validate_shape, use_resource, custom_getter, constraint, synchronization, aggregation)\u001b[0m\n\u001b[1;32m   1235\u001b[0m           \u001b[0mconstraint\u001b[0m\u001b[0;34m=\u001b[0m\u001b[0mconstraint\u001b[0m\u001b[0;34m,\u001b[0m\u001b[0;34m\u001b[0m\u001b[0m\n\u001b[1;32m   1236\u001b[0m           \u001b[0msynchronization\u001b[0m\u001b[0;34m=\u001b[0m\u001b[0msynchronization\u001b[0m\u001b[0;34m,\u001b[0m\u001b[0;34m\u001b[0m\u001b[0m\n\u001b[0;32m-> 1237\u001b[0;31m           aggregation=aggregation)\n\u001b[0m\u001b[1;32m   1238\u001b[0m \u001b[0;34m\u001b[0m\u001b[0m\n\u001b[1;32m   1239\u001b[0m   def _get_partitioned_variable(self,\n",
      "\u001b[0;32m~/anaconda3/lib/python3.6/site-packages/tensorflow/python/ops/variable_scope.py\u001b[0m in \u001b[0;36mget_variable\u001b[0;34m(self, name, shape, dtype, initializer, regularizer, reuse, trainable, collections, caching_device, partitioner, validate_shape, use_resource, custom_getter, constraint, synchronization, aggregation)\u001b[0m\n\u001b[1;32m    538\u001b[0m           \u001b[0mconstraint\u001b[0m\u001b[0;34m=\u001b[0m\u001b[0mconstraint\u001b[0m\u001b[0;34m,\u001b[0m\u001b[0;34m\u001b[0m\u001b[0m\n\u001b[1;32m    539\u001b[0m           \u001b[0msynchronization\u001b[0m\u001b[0;34m=\u001b[0m\u001b[0msynchronization\u001b[0m\u001b[0;34m,\u001b[0m\u001b[0;34m\u001b[0m\u001b[0m\n\u001b[0;32m--> 540\u001b[0;31m           aggregation=aggregation)\n\u001b[0m\u001b[1;32m    541\u001b[0m \u001b[0;34m\u001b[0m\u001b[0m\n\u001b[1;32m    542\u001b[0m   def _get_partitioned_variable(self,\n",
      "\u001b[0;32m~/anaconda3/lib/python3.6/site-packages/tensorflow/python/ops/variable_scope.py\u001b[0m in \u001b[0;36m_true_getter\u001b[0;34m(name, shape, dtype, initializer, regularizer, reuse, trainable, collections, caching_device, partitioner, validate_shape, use_resource, constraint, synchronization, aggregation)\u001b[0m\n\u001b[1;32m    490\u001b[0m           \u001b[0mconstraint\u001b[0m\u001b[0;34m=\u001b[0m\u001b[0mconstraint\u001b[0m\u001b[0;34m,\u001b[0m\u001b[0;34m\u001b[0m\u001b[0m\n\u001b[1;32m    491\u001b[0m           \u001b[0msynchronization\u001b[0m\u001b[0;34m=\u001b[0m\u001b[0msynchronization\u001b[0m\u001b[0;34m,\u001b[0m\u001b[0;34m\u001b[0m\u001b[0m\n\u001b[0;32m--> 492\u001b[0;31m           aggregation=aggregation)\n\u001b[0m\u001b[1;32m    493\u001b[0m \u001b[0;34m\u001b[0m\u001b[0m\n\u001b[1;32m    494\u001b[0m     \u001b[0;31m# Set trainable value based on synchronization value.\u001b[0m\u001b[0;34m\u001b[0m\u001b[0;34m\u001b[0m\u001b[0m\n",
      "\u001b[0;32m~/anaconda3/lib/python3.6/site-packages/tensorflow/python/ops/variable_scope.py\u001b[0m in \u001b[0;36m_get_single_variable\u001b[0;34m(self, name, shape, dtype, initializer, regularizer, partition_info, reuse, trainable, collections, caching_device, validate_shape, use_resource, constraint, synchronization, aggregation)\u001b[0m\n\u001b[1;32m    859\u001b[0m                          \u001b[0;34m\"reuse=tf.AUTO_REUSE in VarScope? \"\u001b[0m\u001b[0;34m\u001b[0m\u001b[0m\n\u001b[1;32m    860\u001b[0m                          \"Originally defined at:\\n\\n%s\" % (\n\u001b[0;32m--> 861\u001b[0;31m                              name, \"\".join(traceback.format_list(tb))))\n\u001b[0m\u001b[1;32m    862\u001b[0m       \u001b[0mfound_var\u001b[0m \u001b[0;34m=\u001b[0m \u001b[0mself\u001b[0m\u001b[0;34m.\u001b[0m\u001b[0m_vars\u001b[0m\u001b[0;34m[\u001b[0m\u001b[0mname\u001b[0m\u001b[0;34m]\u001b[0m\u001b[0;34m\u001b[0m\u001b[0m\n\u001b[1;32m    863\u001b[0m       \u001b[0;32mif\u001b[0m \u001b[0;32mnot\u001b[0m \u001b[0mshape\u001b[0m\u001b[0;34m.\u001b[0m\u001b[0mis_compatible_with\u001b[0m\u001b[0;34m(\u001b[0m\u001b[0mfound_var\u001b[0m\u001b[0;34m.\u001b[0m\u001b[0mget_shape\u001b[0m\u001b[0;34m(\u001b[0m\u001b[0;34m)\u001b[0m\u001b[0;34m)\u001b[0m\u001b[0;34m:\u001b[0m\u001b[0;34m\u001b[0m\u001b[0m\n",
      "\u001b[0;31mValueError\u001b[0m: Variable 1/kernel already exists, disallowed. Did you mean to set reuse=True or reuse=tf.AUTO_REUSE in VarScope? Originally defined at:\n\n  File \"<ipython-input-7-a9ba66ab60c2>\", line 21, in _build_graph\n    activation=tf.tanh, name='1')\n  File \"<ipython-input-7-a9ba66ab60c2>\", line 10, in __init__\n    self._build_graph()\n  File \"<ipython-input-8-d3a9e7d78151>\", line 3, in train_MLP_NN\n    model = MLP(learn_param=0.01)\n"
     ]
    }
   ],
   "source": [
    "train_MLP_NN()"
   ]
  },
  {
   "cell_type": "code",
   "execution_count": null,
   "metadata": {},
   "outputs": [],
   "source": [
    "\"\"\"Calculate number of variables\"\"\"\n",
    "\n",
    "tf.global_variables()"
   ]
  },
  {
   "cell_type": "code",
   "execution_count": null,
   "metadata": {},
   "outputs": [],
   "source": [
    "\"\"\"Important results:\n",
    "\n",
    "                        1 hidden   2 hidden\n",
    "                        layer      layers\n",
    "                        \n",
    "Number of parameters:   14         20\n",
    "Time taken (5 epochs):  172s       223s\n",
    "Final training error:   0.971      0.956\n",
    "Final testing error:    0.962      0.948\n",
    "\n",
    "\"\"\""
   ]
  },
  {
   "cell_type": "code",
   "execution_count": null,
   "metadata": {},
   "outputs": [],
   "source": [
    "\"\"\"Plot training and testing errors\"\"\"\n",
    "\n",
    "fig, (ax1, ax2) = plt.subplots(1, 2, sharey=True)\n",
    "errors_1HL = pd.read_csv('1HL.csv', index_col=[0])\n",
    "errors_2HL = pd.read_csv('2HL.csv', index_col=[0])\n",
    "\n",
    "X = (np.arange(60) + 1) / 12\n",
    "tr_1HL = errors_1HL.loc[:, 'training']\n",
    "tst_1HL = errors_1HL.loc[:, 'testing']\n",
    "tr_2HL = errors_2HL.loc[:, 'training']\n",
    "tst_2HL = errors_2HL.loc[:, 'testing']\n",
    "ax1.plot(X, tr_1HL)\n",
    "ax1.plot(X, tst_1HL)\n",
    "ax2.plot(X, tr_2HL)\n",
    "ax2.plot(X, tst_2HL)\n",
    "ax1.set_xlabel('Runs through dataset')\n",
    "ax2.set_xlabel('Runs through dataset')\n",
    "ax1.set_ylabel('Proportion correct')\n",
    "ax1.set_title('1 Hidden layer')\n",
    "ax2.set_title('2 Hidden layers')\n",
    "ax1.legend()\n",
    "ax2.legend()\n",
    "plt.savefig('Errors')"
   ]
  }
 ],
 "metadata": {
  "kernelspec": {
   "display_name": "Python 3",
   "language": "python",
   "name": "python3"
  },
  "language_info": {
   "codemirror_mode": {
    "name": "ipython",
    "version": 3
   },
   "file_extension": ".py",
   "mimetype": "text/x-python",
   "name": "python",
   "nbconvert_exporter": "python",
   "pygments_lexer": "ipython3",
   "version": "3.6.0"
  }
 },
 "nbformat": 4,
 "nbformat_minor": 2
}
