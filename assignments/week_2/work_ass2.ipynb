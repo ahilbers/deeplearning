{
 "cells": [
  {
   "cell_type": "code",
   "execution_count": 246,
   "metadata": {},
   "outputs": [],
   "source": [
    "import numpy as np\n",
    "import pandas as pd\n",
    "import matplotlib.pyplot as plt\n",
    "import time\n",
    "import tensorflow as tf"
   ]
  },
  {
   "cell_type": "markdown",
   "metadata": {
    "collapsed": true
   },
   "source": [
    "# Import and inspect data"
   ]
  },
  {
   "cell_type": "markdown",
   "metadata": {},
   "source": [
    "## Import"
   ]
  },
  {
   "cell_type": "code",
   "execution_count": 247,
   "metadata": {},
   "outputs": [],
   "source": [
    "def import_data():\n",
    "    \"\"\"Import training and testing data, as data and labels\"\"\"\n",
    "    \n",
    "    # Import in pandas (np.genfromtxt is too slow)\n",
    "    tr_pd = pd.read_csv('data_train.csv', header=None)\n",
    "    tst_pd = pd.read_csv('data_test.csv', header=None)\n",
    "    \n",
    "    # Split data and labels\n",
    "    tr_data = tr_pd.loc[:, 1:].values\n",
    "    tr_labels = tr_pd.loc[:, 0].values\n",
    "    tst_data = tst_pd.loc[:, 1:].values\n",
    "    tst_labels = tst_pd.loc[:, 0].values\n",
    "    \n",
    "    return tr_data, tst_data, tr_labels, tst_labels"
   ]
  },
  {
   "cell_type": "code",
   "execution_count": 248,
   "metadata": {},
   "outputs": [],
   "source": [
    "def make_onehot(labels):\n",
    "    \"\"\"Change numbers 0-9 to unit vectors along the first 10 axes.\"\"\"\n",
    "    \n",
    "    labels_onehot = np.zeros(shape=(labels.shape[0], 10))\n",
    "    for num in range(labels.shape[0]):\n",
    "        labels_onehot[num, labels[num]] = 1.0\n",
    "    \n",
    "    return labels_onehot"
   ]
  },
  {
   "cell_type": "code",
   "execution_count": 249,
   "metadata": {},
   "outputs": [],
   "source": [
    "g_tr_data, g_tst_data, g_tr_labels, g_tst_labels = import_data()\n",
    "g_tr_data = g_tr_data/255\n",
    "g_tst_data = g_tst_data/255\n",
    "g_tr_labels_oh = make_onehot(g_tr_labels)\n",
    "g_tst_labels_oh = make_onehot(g_tst_labels)"
   ]
  },
  {
   "cell_type": "markdown",
   "metadata": {},
   "source": [
    "## Inspect"
   ]
  },
  {
   "cell_type": "code",
   "execution_count": 250,
   "metadata": {},
   "outputs": [],
   "source": [
    "def inspect_number(data, labels, imagenum, probs=None):\n",
    "    \"\"\"Make a function that displays the image. If a vector of onehot vectors is \n",
    "    also inputted, then a bar plot of these probabilities is shown.\"\"\"\n",
    "    \n",
    "    # Reshape the datasets\n",
    "    plot_data = np.reshape(data, newshape=(data.shape[0], 28, 28))\n",
    "    \n",
    "    # If there are no probabilites entered, just plot the picture\n",
    "    if probs == None:\n",
    "        print(labels[imagenum])\n",
    "        fig, ax = plt.subplots()\n",
    "        ax.imshow(plot_data[imagenum], cmap='Greys')\n",
    "        plt.show()\n",
    "    \n",
    "    # When probabilities are entered, plot the picture and the \n",
    "    # probability that it is each number\n",
    "    else:\n",
    "        print(labels[imagenum])\n",
    "        fig, (ax1, ax2) = plt.subplots(1, 2)\n",
    "        ax1.imshow(plot_data[imagenum], cmap='Greys')\n",
    "        ax2.bar(np.arange(10), probs)\n",
    "        asp = np.diff(ax2.get_xlim())[0] / np.diff(ax2.get_ylim())[0]\n",
    "        ax2.set_aspect(asp)\n",
    "        plt.show()"
   ]
  },
  {
   "cell_type": "markdown",
   "metadata": {
    "collapsed": true
   },
   "source": [
    "# Build MLP in Tensorflow"
   ]
  },
  {
   "cell_type": "code",
   "execution_count": 252,
   "metadata": {},
   "outputs": [],
   "source": [
    "tf.reset_default_graph()    # Sometimes solves issues \n",
    "\n",
    "class MLP():\n",
    "    def __init__(self, learn_param):\n",
    "        self.learn_param = learn_param\n",
    "        \n",
    "        self.inp = tf.placeholder(dtype=tf.float32, shape=[None, 784], name='inputs')\n",
    "        self.tgt = tf.placeholder(dtype=tf.float32, shape=[None, 10], name='targets')\n",
    "        self.sess = tf.Session()\n",
    "        self._build_graph()\n",
    "        self.sess.run(tf.initializers.global_variables())\n",
    "        \n",
    "    \n",
    "    def _build_graph(self):\n",
    "        \"\"\"Build the neural network\"\"\"\n",
    "        \n",
    "        initializer = tf.glorot_uniform_initializer()\n",
    "        \n",
    "        # The neural network\n",
    "        h = tf.layers.dense(self.inp, 128, kernel_initializer=initializer, \\\n",
    "                activation=tf.tanh, name='1')\n",
    "        h = tf.layers.dense(h, 64, kernel_initializer=initializer, \\\n",
    "                activation=tf.tanh, name='2')\n",
    "        self.logits = tf.layers.dense(h, 10, kernel_initializer=initializer, \\\n",
    "                activation=tf.identity, name='3')\n",
    "        self.softmax = tf.nn.softmax(self.logits)\n",
    "        \n",
    "        # Optimiser: softmax cross entropy\n",
    "        CE = tf.nn.softmax_cross_entropy_with_logits_v2(labels=self.tgt, logits=self.logits)\n",
    "        self.cost = tf.reduce_mean(CE)\n",
    "        self.optimizer = tf.train.AdamOptimizer(\\\n",
    "                learning_rate=self.learn_param).minimize(self.cost)\n",
    "        \n",
    "        \n",
    "    def make_minibatch(self, data, labels, batch_size, batch_num):\n",
    "        \"\"\"Form a minibatch from the data\"\"\"\n",
    "        \n",
    "        llim = batch_num * batch_size\n",
    "        rlim = (batch_num + 1) * batch_size\n",
    "        return data[llim:rlim], labels[llim:rlim]\n",
    "    \n",
    "    \n",
    "    def evaluate_MLP_outputs(self, data):\n",
    "        \"\"\"Run the feedforward NN on some data\"\"\"\n",
    "        \n",
    "        feed_dict = {self.inp: data}\n",
    "        outputs = self.sess.run(self.softmax, feed_dict=feed_dict)\n",
    "        return outputs\n",
    "    \n",
    "    \n",
    "    def calc_frac_correct(self, data, labels):\n",
    "        \"\"\"Determine the number of correctly idenfitied pictures across a dataset\"\"\"\n",
    "        \n",
    "        num_pts = data.shape[0]\n",
    "        estimates_sm = self.evaluate_MLP_outputs(data)\n",
    "        estimates = np.argmax(estimates_sm, axis=1)    # Argmax over softmax = estimates\n",
    "        fraction_correct = 1 - len(np.nonzero(estimates - labels)[0])/num_pts\n",
    "        return fraction_correct\n",
    "    \n",
    "    \n",
    "    def train_iteration(self, data, labels_oh):\n",
    "        \"\"\"Do one training iteration\"\"\"\n",
    "        \n",
    "        feed_dict = {self.inp: data, self.tgt: labels_oh}\n",
    "        _, out = self.sess.run([self.optimizer, self.softmax], feed_dict=feed_dict)\n",
    "        \n",
    "        \n",
    "    def train_full(self, tr_data, tr_labels, tst_data, tst_labels, batch_size, num_epochs):\n",
    "        \"\"\"Train the neural network and keep track of progress by (cross) validating\"\"\"\n",
    "        \n",
    "        tr_labels_oh = make_onehot(tr_labels)\n",
    "        tst_labels_oh = make_onehot(tst_labels)\n",
    "        \n",
    "        # batch_size must divide num_tr_points\n",
    "        num_tr_pts = tr_data.shape[0]\n",
    "        num_tst_pts = tst_data.shape[0]\n",
    "        num_batches = int(round(num_tr_pts / batch_size)) \n",
    "        \n",
    "        \n",
    "        # Train the MLP and keep track of the errors across training and testing datasets\n",
    "        batch_nums, epochs, tr_accs, tst_accs = \\\n",
    "                np.array([]), np.array([]), np.array([]), np.array([])\n",
    "        for epoch in range(num_epochs):\n",
    "            for batch_num in range(num_batches):\n",
    "                # Input proportion correctly identified across training and testing dataset\n",
    "                if batch_num % 50 == 0:\n",
    "                    tr_acc = self.calc_frac_correct(tr_data, tr_labels)\n",
    "                    tst_acc = self.calc_frac_correct(tst_data, tst_labels)\n",
    "                    print('Training accuracy after {} batches: {}'.format(batch_num, tr_acc))\n",
    "                    epochs = np.append(epochs, epoch)\n",
    "                    batch_nums = np.append(batch_nums, batch_num)\n",
    "                    tr_accs = np.append(tr_accs, tr_acc)\n",
    "                    tst_accs = np.append(tst_accs, tst_acc)\n",
    "                \n",
    "                # Do the training\n",
    "                mb_data, mb_labels_oh = self.make_minibatch(tr_data, tr_labels_oh, \\\n",
    "                        batch_size=batch_size, batch_num=batch_num)    # Make minibatch\n",
    "                self.train_iteration(mb_data, mb_labels_oh)    # Do single training iteration\n",
    "                \n",
    "        accuracies = np.vstack((epochs, batch_nums, tr_accs, tst_accs)).T\n",
    "        return accuracies"
   ]
  },
  {
   "cell_type": "code",
   "execution_count": 245,
   "metadata": {},
   "outputs": [],
   "source": [
    "tf.reset_default_graph()    # Sometimes solves issues\n",
    "def train_MLP_NN():\n",
    "    model = MLP(learn_param=0.01)\n",
    "    accuracies = model.train_full(g_tr_data, g_tr_labels, g_tst_data, g_tst_labels, 100, 2)\n",
    "    accuracies = pd.DataFrame(accuracies, columns = ['epoch', 'batch', 'train', 'test'])\n",
    "    return accuracies"
   ]
  },
  {
   "cell_type": "code",
   "execution_count": null,
   "metadata": {},
   "outputs": [],
   "source": []
  },
  {
   "cell_type": "code",
   "execution_count": 253,
   "metadata": {},
   "outputs": [
    {
     "data": {
      "text/plain": [
       "[]"
      ]
     },
     "execution_count": 253,
     "metadata": {},
     "output_type": "execute_result"
    }
   ],
   "source": [
    "\"\"\"Calculate number of variables\"\"\"\n",
    "\n",
    "tf.global_variables()"
   ]
  },
  {
   "cell_type": "code",
   "execution_count": null,
   "metadata": {
    "collapsed": true
   },
   "outputs": [],
   "source": [
    "\"\"\"Important results:\n",
    "\n",
    "                        1 hidden   2 hidden\n",
    "                        layer      layers\n",
    "                        \n",
    "Number of parameters:   14         20\n",
    "Time taken (5 epochs):  172s       223s\n",
    "Final training error:   0.971      0.956\n",
    "Final testing error:    0.962      0.948\n",
    "\n",
    "\"\"\""
   ]
  },
  {
   "cell_type": "code",
   "execution_count": null,
   "metadata": {
    "collapsed": true
   },
   "outputs": [],
   "source": [
    "\"\"\"Plot training and testing errors\"\"\"\n",
    "\n",
    "fig, (ax1, ax2) = plt.subplots(1, 2, sharey=True)\n",
    "errors_1HL = pd.read_csv('1HL.csv', index_col=[0])\n",
    "errors_2HL = pd.read_csv('2HL.csv', index_col=[0])\n",
    "\n",
    "X = (np.arange(60) + 1) / 12\n",
    "tr_1HL = errors_1HL.loc[:, 'training']\n",
    "tst_1HL = errors_1HL.loc[:, 'testing']\n",
    "tr_2HL = errors_2HL.loc[:, 'training']\n",
    "tst_2HL = errors_2HL.loc[:, 'testing']\n",
    "ax1.plot(X, tr_1HL)\n",
    "ax1.plot(X, tst_1HL)\n",
    "ax2.plot(X, tr_2HL)\n",
    "ax2.plot(X, tst_2HL)\n",
    "ax1.set_xlabel('Runs through dataset')\n",
    "ax2.set_xlabel('Runs through dataset')\n",
    "ax1.set_ylabel('Proportion correct')\n",
    "ax1.set_title('1 Hidden layer')\n",
    "ax2.set_title('2 Hidden layers')\n",
    "ax1.legend()\n",
    "ax2.legend()\n",
    "plt.savefig('Errors')"
   ]
  },
  {
   "cell_type": "code",
   "execution_count": null,
   "metadata": {},
   "outputs": [],
   "source": []
  },
  {
   "cell_type": "code",
   "execution_count": 205,
   "metadata": {},
   "outputs": [
    {
     "name": "stdout",
     "output_type": "stream",
     "text": [
      "[None None]\n"
     ]
    }
   ],
   "source": [
    "X=np.array([None, None])\n",
    "print(X)"
   ]
  },
  {
   "cell_type": "code",
   "execution_count": null,
   "metadata": {},
   "outputs": [],
   "source": []
  },
  {
   "cell_type": "code",
   "execution_count": null,
   "metadata": {},
   "outputs": [],
   "source": []
  }
 ],
 "metadata": {
  "kernelspec": {
   "display_name": "Python 3",
   "language": "python",
   "name": "python3"
  },
  "language_info": {
   "codemirror_mode": {
    "name": "ipython",
    "version": 3
   },
   "file_extension": ".py",
   "mimetype": "text/x-python",
   "name": "python",
   "nbconvert_exporter": "python",
   "pygments_lexer": "ipython3",
   "version": "3.6.0"
  }
 },
 "nbformat": 4,
 "nbformat_minor": 2
}
