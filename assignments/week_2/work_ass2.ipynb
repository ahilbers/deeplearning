{
 "cells": [
  {
   "cell_type": "code",
   "execution_count": null,
   "metadata": {},
   "outputs": [],
   "source": [
    "import numpy as np\n",
    "import pandas as pd\n",
    "import matplotlib.pyplot as plt\n",
    "import time\n",
    "import tensorflow as tf"
   ]
  },
  {
   "cell_type": "code",
   "execution_count": null,
   "metadata": {
    "collapsed": true
   },
   "outputs": [],
   "source": []
  },
  {
   "cell_type": "code",
   "execution_count": null,
   "metadata": {
    "collapsed": true
   },
   "outputs": [],
   "source": []
  },
  {
   "cell_type": "code",
   "execution_count": null,
   "metadata": {},
   "outputs": [],
   "source": [
    "\"\"\"Import the data\"\"\""
   ]
  },
  {
   "cell_type": "code",
   "execution_count": null,
   "metadata": {
    "collapsed": true
   },
   "outputs": [],
   "source": [
    "def import_data():\n",
    "    \n",
    "    # Import in pandas (np.genfromtxt is too slow)\n",
    "    tr_pd = pd.read_csv('data_train.csv', header=None)\n",
    "    tst_pd = pd.read_csv('data_test.csv', header=None)\n",
    "    \n",
    "    # Split data and labels\n",
    "    tr_data = tr_pd.loc[:, 1:].values\n",
    "    tr_labels = tr_pd.loc[:, 0].values\n",
    "    tst_data = tst_pd.loc[:, 1:].values\n",
    "    tst_labels = tst_pd.loc[:, 0].values\n",
    "    \n",
    "    return tr_data, tst_data, tr_labels, tst_labels"
   ]
  },
  {
   "cell_type": "code",
   "execution_count": null,
   "metadata": {
    "collapsed": true
   },
   "outputs": [],
   "source": [
    "g_tr_data, g_tst_data, g_tr_labels, g_tst_labels = import_data()\n",
    "g_tr_data = g_tr_data/255\n",
    "g_tst_data = g_tst_data/255"
   ]
  },
  {
   "cell_type": "code",
   "execution_count": null,
   "metadata": {
    "collapsed": true
   },
   "outputs": [],
   "source": [
    "def vectorise_labels(labels):\n",
    "    \"\"\"Change numbers 0-9 to unit vectors along the first 9 axes.\"\"\"\n",
    "    \n",
    "    vector_labels = np.zeros(shape=(labels.shape[0], 10))\n",
    "    for num in range(labels.shape[0]):\n",
    "        vector_labels[num, labels[num]] = 1.0\n",
    "    \n",
    "    return vector_labels"
   ]
  },
  {
   "cell_type": "code",
   "execution_count": null,
   "metadata": {
    "collapsed": true
   },
   "outputs": [],
   "source": [
    "g_tr_labels_vc = vectorise_labels(g_tr_labels)\n",
    "g_tst_labels_vc = vectorise_labels(g_tst_labels)"
   ]
  },
  {
   "cell_type": "code",
   "execution_count": null,
   "metadata": {
    "collapsed": true
   },
   "outputs": [],
   "source": [
    "def inspect_number(data, labels, imagenum, probs='no'):\n",
    "    \"\"\"Make a function that displays the image. If a vector of one_hot vectors is \n",
    "    also inputted, then a bar plot of these probabilities is shown.\"\"\"\n",
    "    \n",
    "    # Reshape the datasets\n",
    "    plot_data = np.reshape(data, newshape=(data.shape[0], 28, 28))\n",
    "    \n",
    "    # If there are no probabilites entered, just plot the picture\n",
    "    if probs == 'no':\n",
    "        print(labels[imagenum])\n",
    "        fig, ax = plt.subplots()\n",
    "        ax.imshow(plot_data[imagenum], cmap='Greys')\n",
    "        plt.show()\n",
    "    \n",
    "    # When probabilities are entered, plot the picture and the \n",
    "    # probability that it is each number\n",
    "    else:\n",
    "        print(labels[imagenum])\n",
    "        fig, (ax1, ax2) = plt.subplots(1, 2)\n",
    "        ax1.imshow(plot_data[imagenum], cmap='Greys')\n",
    "        ax2.bar(np.arange(10), probs)\n",
    "        asp = np.diff(ax2.get_xlim())[0] / np.diff(ax2.get_ylim())[0]\n",
    "        ax2.set_aspect(asp)\n",
    "        plt.show()"
   ]
  },
  {
   "cell_type": "code",
   "execution_count": null,
   "metadata": {
    "collapsed": true
   },
   "outputs": [],
   "source": []
  },
  {
   "cell_type": "code",
   "execution_count": null,
   "metadata": {
    "collapsed": true
   },
   "outputs": [],
   "source": []
  },
  {
   "cell_type": "code",
   "execution_count": null,
   "metadata": {},
   "outputs": [],
   "source": [
    "\"\"\"Start using tensorflow\"\"\""
   ]
  },
  {
   "cell_type": "code",
   "execution_count": null,
   "metadata": {
    "collapsed": true
   },
   "outputs": [],
   "source": [
    "tf.reset_default_graph()"
   ]
  },
  {
   "cell_type": "code",
   "execution_count": null,
   "metadata": {
    "collapsed": true
   },
   "outputs": [],
   "source": [
    "tr_in = tf.placeholder(dtype=tf.float32, shape=[None, 784], name='inputs')\n",
    "tr_tgt = tf.placeholder(dtype=tf.float32, shape=[None, 10], name='targets')\n",
    "tst_in = tf.placeholder(dtype=tf.float32, shape=[None, 784], name='inputs')\n",
    "tst_tgt = tf.placeholder(dtype=tf.float32, shape=[None, 10], name='targets')\n",
    "\n",
    "epochs = 5\n",
    "learnrate = 0.01"
   ]
  },
  {
   "cell_type": "code",
   "execution_count": null,
   "metadata": {
    "collapsed": true
   },
   "outputs": [],
   "source": [
    "\"\"\"Create the neural network\"\"\"\n",
    "\n",
    "# Layers of the neural network, training\n",
    "tr_h = tf.layers.dense(tr_in, 128, kernel_initializer=tf.glorot_uniform_initializer(), \\\n",
    "        activation=tf.tanh, name='1')\n",
    "tr_h = tf.layers.dense(tr_h, 64, kernel_initializer=tf.glorot_uniform_initializer(), \\\n",
    "        activation=tf.tanh, name='2')\n",
    "tr_logits = tf.layers.dense(tr_h, 10, kernel_initializer=tf.glorot_uniform_initializer(), \\\n",
    "        activation=tf.identity, name='3')\n",
    "\n",
    "# Layers of the neural network, testing\n",
    "tst_h = tf.layers.dense(tst_in, 128, kernel_initializer=tf.glorot_uniform_initializer(), \\\n",
    "        activation=tf.tanh, name='1', reuse=True)\n",
    "tst_h = tf.layers.dense(tst_h, 64, kernel_initializer=tf.glorot_uniform_initializer(), \\\n",
    "        activation=tf.tanh, name='2', reuse=True)\n",
    "tst_logits = tf.layers.dense(tst_h, 10, kernel_initializer=tf.glorot_uniform_initializer(), \\\n",
    "        activation=tf.identity, name='3', reuse=True)\n",
    "\n",
    "# Turn output layer into softmax job\n",
    "tr_sm = tf.nn.softmax(tr_logits)\n",
    "tst_sm = tf.nn.softmax(tst_logits)\n",
    "\n",
    "# Calculate the cost and run the optimiser\n",
    "tr_cost = tf.reduce_mean(tf.nn.softmax_cross_entropy_with_logits_v2(labels=tr_tgt, logits=tr_logits))\n",
    "tst_cost = tf.reduce_mean(tf.nn.softmax_cross_entropy_with_logits_v2(labels=tst_tgt, logits=tst_logits))\n",
    "optimizer = tf.train.AdamOptimizer(learning_rate=learnrate).minimize(tr_cost)"
   ]
  },
  {
   "cell_type": "code",
   "execution_count": null,
   "metadata": {
    "collapsed": true
   },
   "outputs": [],
   "source": [
    "init = tf.initializers.global_variables()"
   ]
  },
  {
   "cell_type": "code",
   "execution_count": null,
   "metadata": {},
   "outputs": [],
   "source": [
    "\"\"\"Train the neural network.\"\"\"\n",
    "\n",
    "with tf.Session() as sess:\n",
    "    \n",
    "    num_tr = g_tr_data.shape[0]\n",
    "    num_tst = g_tst_data.shape[0]\n",
    "    \n",
    "    batch_size = 100   # Must divide num_tr\n",
    "    num_batches = int(num_tr / batch_size + 0.00001)\n",
    "    # Error metrics are recorded every batch_recordspace batches\n",
    "    batch_recordspace = 50\n",
    "    \n",
    "    # Create a pandas DataFrame where the training and testing error is put\n",
    "    columns = ['epoch', 'batch', 'training', 'testing']\n",
    "    num_rows = int(num_batches * epochs / batch_recordspace + 0.00001)\n",
    "    index = np.arange(num_rows)\n",
    "    Prop_Correct = pd.DataFrame(np.zeros((num_rows,4)), index=index, columns=columns)\n",
    "    \n",
    "    # Initialise all variables\n",
    "    sess.run(init)\n",
    "    \n",
    "    start_time = time.time()\n",
    "    \n",
    "    # Do the training, epoch is one run through full dataset\n",
    "    for epoch in range(epochs):\n",
    "        # One training iteration per batch\n",
    "        for batch in range(num_batches):\n",
    "            \n",
    "            # Input the batch of training and testing data\n",
    "            range_left = batch * batch_size\n",
    "            range_right = (batch + 1) * batch_size\n",
    "            feed_dict = {\n",
    "                    tr_in: g_tr_data[range_left:range_right], \\\n",
    "                    tr_tgt: g_tr_labels_vc[range_left:range_right], \\\n",
    "                    tst_in: g_tst_data, \\\n",
    "                    tst_tgt: g_tst_labels_vc \\\n",
    "                    }\n",
    "        \n",
    "            # Run one iteration of neural network trainer\n",
    "            # Inputs\n",
    "            iter_inputs = [\n",
    "                    optimizer, \\\n",
    "                    tr_cost, tr_sm, tr_tgt, \\\n",
    "                    tst_cost, tst_sm, tst_tgt \\\n",
    "                    ]\n",
    "            # Run it\n",
    "            iter_outputs = sess.run(iter_inputs, feed_dict=feed_dict)\n",
    "            # Outputs\n",
    "            _ = iter_outputs[0]\n",
    "            out_tr_cost, out_tr_sm, out_tr_tgt = iter_outputs[1:4]\n",
    "            out_tst_cost, out_tst_sm, out_tst_tgt = iter_outputs[4:7]\n",
    "            \n",
    "        \n",
    "            # Find the proportion of correctly identified numbers in training dataset\n",
    "            tr_truth = np.argmax(out_tr_tgt, axis=1)\n",
    "            tr_nn_guess = np.argmax(out_tr_sm, axis=1)\n",
    "            tr_num_correct = batch_size - len(np.nonzero(tr_nn_guess - tr_truth)[0])\n",
    "            tr_fraction_correct = tr_num_correct / batch_size\n",
    "        \n",
    "            # Find the proportion of correctly identified numbers in testing dataset\n",
    "            tst_truth = np.argmax(out_tst_tgt, axis=1)\n",
    "            tst_nn_guess = np.argmax(out_tst_sm, axis=1)\n",
    "            tst_num_correct = num_tst - len(np.nonzero(tst_nn_guess - tst_truth)[0])\n",
    "            tst_fraction_correct = tst_num_correct / num_tst\n",
    "            \n",
    "            # Print and input some outputs (training and testing errors)\n",
    "            if batch % batch_recordspace == 0:\n",
    "#                print(epoch, batch, tr_fraction_correct, tst_fraction_correct)\n",
    "                row_num = int((epoch * num_batches + batch) / batch_recordspace + 0.00001)\n",
    "                Prop_Correct.loc[row_num, :] = [ \\\n",
    "                        epoch, batch, tr_fraction_correct, tst_fraction_correct]\n",
    "    \n",
    "    # Output a pandas DataFrame with the training and testing errors\n",
    "#    Prop_Correct.to_csv('2HL.csv')\n",
    "    \n",
    "    end_time = time.time()\n",
    "    print('Time taken: {}s'.format(end_time - start_time))\n",
    "    \n",
    "    \n",
    "    # Calculate the number correct across the whole dataset\n",
    "            \n",
    "    # Input the batch of training and testing data\n",
    "    feed_dict = {\n",
    "            tr_in: g_tr_data, \\\n",
    "            tr_tgt: g_tr_labels_vc, \\\n",
    "            tst_in: g_tst_data, \\\n",
    "            tst_tgt: g_tst_labels_vc \\\n",
    "            }\n",
    "        \n",
    "    # Run neural network again on whole training dataset\n",
    "    run_inputs = [tr_sm, tr_tgt, tst_sm, tst_tgt]\n",
    "    run_outputs = sess.run(run_inputs, feed_dict=feed_dict)\n",
    "    out_tr_sm, out_tr_tgt, out_tst_sm, out_tst_tgt = run_outputs\n",
    "            \n",
    "    # Find the proportion of correctly identified numbers in training dataset\n",
    "    # (The testing dataset has already been done)\n",
    "    tr_truth = np.argmax(out_tr_tgt, axis=1)\n",
    "    tr_nn_guess = np.argmax(out_tr_sm, axis=1)\n",
    "    tr_num_correct = num_tr - len(np.nonzero(tr_nn_guess - tr_truth)[0])\n",
    "    tr_fraction_correct = tr_num_correct / num_tr\n",
    "            \n",
    "    print('Correct, training dataset: {}'.format(tr_fraction_correct))\n",
    "    print('Correct, testing dataset: {}'.format(tst_fraction_correct)) \n",
    "    \n",
    "    "
   ]
  },
  {
   "cell_type": "code",
   "execution_count": null,
   "metadata": {
    "collapsed": true
   },
   "outputs": [],
   "source": [
    "\"\"\"Calculate number of variables\"\"\"\n",
    "\n",
    "len(tf.global_variables())"
   ]
  },
  {
   "cell_type": "code",
   "execution_count": null,
   "metadata": {
    "collapsed": true
   },
   "outputs": [],
   "source": [
    "\"\"\"Important results:\n",
    "\n",
    "                        1 hidden   2 hidden\n",
    "                        layer      layers\n",
    "                        \n",
    "Number of parameters:   14         20\n",
    "Time taken (5 epochs):  172s       223s\n",
    "Final training error:   0.971      0.956\n",
    "Final testing error:    0.962      0.948\n",
    "\n",
    "\"\"\""
   ]
  },
  {
   "cell_type": "code",
   "execution_count": null,
   "metadata": {
    "collapsed": true
   },
   "outputs": [],
   "source": [
    "\"\"\"Plot training and testing errors\"\"\"\n",
    "\n",
    "fig, (ax1, ax2) = plt.subplots(1, 2, sharey=True)\n",
    "errors_1HL = pd.read_csv('1HL.csv', index_col=[0])\n",
    "errors_2HL = pd.read_csv('2HL.csv', index_col=[0])\n",
    "\n",
    "X = (np.arange(60) + 1) / 12\n",
    "tr_1HL = errors_1HL.loc[:, 'training']\n",
    "tst_1HL = errors_1HL.loc[:, 'testing']\n",
    "tr_2HL = errors_2HL.loc[:, 'training']\n",
    "tst_2HL = errors_2HL.loc[:, 'testing']\n",
    "ax1.plot(X, tr_1HL)\n",
    "ax1.plot(X, tst_1HL)\n",
    "ax2.plot(X, tr_2HL)\n",
    "ax2.plot(X, tst_2HL)\n",
    "ax1.set_xlabel('Runs through dataset')\n",
    "ax2.set_xlabel('Runs through dataset')\n",
    "ax1.set_ylabel('Proportion correct')\n",
    "ax1.set_title('1 Hidden layer')\n",
    "ax2.set_title('2 Hidden layers')\n",
    "ax1.legend()\n",
    "ax2.legend()\n",
    "plt.savefig('Errors')"
   ]
  }
 ],
 "metadata": {
  "kernelspec": {
   "display_name": "Python 3",
   "language": "python",
   "name": "python3"
  },
  "language_info": {
   "codemirror_mode": {
    "name": "ipython",
    "version": 3
   },
   "file_extension": ".py",
   "mimetype": "text/x-python",
   "name": "python",
   "nbconvert_exporter": "python",
   "pygments_lexer": "ipython3",
   "version": "3.6.3"
  }
 },
 "nbformat": 4,
 "nbformat_minor": 2
}
