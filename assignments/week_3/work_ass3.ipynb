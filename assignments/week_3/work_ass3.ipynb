{
 "cells": [
  {
   "cell_type": "code",
   "execution_count": 235,
   "metadata": {},
   "outputs": [],
   "source": [
    "import numpy as np\n",
    "import pandas as pd\n",
    "import matplotlib.pyplot as plt\n",
    "import time\n",
    "import tensorflow as tf"
   ]
  },
  {
   "cell_type": "code",
   "execution_count": null,
   "metadata": {
    "collapsed": true
   },
   "outputs": [],
   "source": []
  },
  {
   "cell_type": "code",
   "execution_count": null,
   "metadata": {
    "collapsed": true
   },
   "outputs": [],
   "source": []
  },
  {
   "cell_type": "code",
   "execution_count": 236,
   "metadata": {},
   "outputs": [
    {
     "data": {
      "text/plain": [
       "'Import the data'"
      ]
     },
     "execution_count": 236,
     "metadata": {},
     "output_type": "execute_result"
    }
   ],
   "source": [
    "\"\"\"Import the data\"\"\""
   ]
  },
  {
   "cell_type": "code",
   "execution_count": 237,
   "metadata": {
    "collapsed": true
   },
   "outputs": [],
   "source": [
    "def import_data():\n",
    "    \n",
    "    # Import in pandas (np.genfromtxt is too slow)\n",
    "    tr_pd = pd.read_csv('../week_2/data_train.csv', header=None)\n",
    "    tst_pd = pd.read_csv('../week_2/data_test.csv', header=None)\n",
    "    \n",
    "    # Split data and labels\n",
    "    tr_data = tr_pd.loc[:, 1:].values\n",
    "    tr_labels = tr_pd.loc[:, 0].values\n",
    "    tst_data = tst_pd.loc[:, 1:].values\n",
    "    tst_labels = tst_pd.loc[:, 0].values\n",
    "    \n",
    "    return tr_data, tst_data, tr_labels, tst_labels"
   ]
  },
  {
   "cell_type": "code",
   "execution_count": 238,
   "metadata": {},
   "outputs": [],
   "source": [
    "g_tr_data, g_tst_data, g_tr_labels, g_tst_labels = import_data()\n",
    "g_tr_data = g_tr_data/255\n",
    "g_tst_data = g_tst_data/255"
   ]
  },
  {
   "cell_type": "code",
   "execution_count": 239,
   "metadata": {
    "collapsed": true
   },
   "outputs": [],
   "source": [
    "def vectorise_labels(labels):\n",
    "    \"\"\"Change numbers 0-9 to unit vectors along the first 9 axes.\"\"\"\n",
    "    \n",
    "    vector_labels = np.zeros(shape=(labels.shape[0], 10))\n",
    "    for num in range(labels.shape[0]):\n",
    "        vector_labels[num, labels[num]] = 1.0\n",
    "    \n",
    "    return vector_labels"
   ]
  },
  {
   "cell_type": "code",
   "execution_count": 240,
   "metadata": {
    "collapsed": true
   },
   "outputs": [],
   "source": [
    "g_tr_labels_vc = vectorise_labels(g_tr_labels)\n",
    "g_tst_labels_vc = vectorise_labels(g_tst_labels)"
   ]
  },
  {
   "cell_type": "code",
   "execution_count": 241,
   "metadata": {
    "collapsed": true
   },
   "outputs": [],
   "source": [
    "def inspect_number(data, labels, imagenum, probs='no'):\n",
    "    \"\"\"Make a function that displays the image. If a vector of one_hot vectors is \n",
    "    also inputted, then a bar plot of these probabilities is shown.\"\"\"\n",
    "    \n",
    "    # Reshape the datasets\n",
    "    plot_data = np.reshape(data, newshape=[data.shape[0], 28, 28])\n",
    "    \n",
    "    # If there are no probabilites entered, just plot the picture\n",
    "    if probs == 'no':\n",
    "        print(labels[imagenum])\n",
    "        fig, ax = plt.subplots()\n",
    "        ax.imshow(plot_data[imagenum], cmap='Greys')\n",
    "        plt.show()\n",
    "    \n",
    "    # When probabilities are entered, plot the picture and the \n",
    "    # probability that it is each number\n",
    "    else:\n",
    "        print(labels[imagenum])\n",
    "        fig, (ax1, ax2) = plt.subplots(1, 2)\n",
    "        ax1.imshow(plot_data[imagenum], cmap='Greys')\n",
    "        ax2.bar(np.arange(10), probs)\n",
    "        asp = np.diff(ax2.get_xlim())[0] / np.diff(ax2.get_ylim())[0]\n",
    "        ax2.set_aspect(asp)\n",
    "        plt.show()"
   ]
  },
  {
   "cell_type": "code",
   "execution_count": null,
   "metadata": {},
   "outputs": [],
   "source": []
  },
  {
   "cell_type": "code",
   "execution_count": null,
   "metadata": {
    "collapsed": true
   },
   "outputs": [],
   "source": []
  },
  {
   "cell_type": "code",
   "execution_count": 248,
   "metadata": {},
   "outputs": [
    {
     "data": {
      "text/plain": [
       "'Start using tensorflow'"
      ]
     },
     "execution_count": 248,
     "metadata": {},
     "output_type": "execute_result"
    }
   ],
   "source": [
    "\"\"\"Start using tensorflow\"\"\""
   ]
  },
  {
   "cell_type": "code",
   "execution_count": 249,
   "metadata": {
    "collapsed": true
   },
   "outputs": [],
   "source": [
    "tf.reset_default_graph()"
   ]
  },
  {
   "cell_type": "code",
   "execution_count": 250,
   "metadata": {
    "collapsed": true
   },
   "outputs": [],
   "source": [
    "tr_in = tf.placeholder(dtype=tf.float32, shape=[None, 784], name='inputs')\n",
    "tr_tgt = tf.placeholder(dtype=tf.float32, shape=[None, 10], name='targets')\n",
    "tst_in = tf.placeholder(dtype=tf.float32, shape=[None, 784], name='inputs')\n",
    "tst_tgt = tf.placeholder(dtype=tf.float32, shape=[None, 10], name='targets')\n",
    "\n",
    "epochs = 5\n",
    "learnrate = 0.01"
   ]
  },
  {
   "cell_type": "code",
   "execution_count": 251,
   "metadata": {},
   "outputs": [],
   "source": [
    "\"\"\"Create the neural network\"\"\"\n",
    "\n",
    "# Layers of the neural network, training\n",
    "\n",
    "# Reshape data into the shape of pictures for convolutional layers\n",
    "tr_in_rs = tf.reshape(tr_in, shape=[-1, 28, 28, 1])\n",
    "\n",
    "# First convolutional layer\n",
    "tr_h = tf.layers.conv2d(tr_in_rs, filters=32, kernel_size=[5, 5], \\\n",
    "        kernel_initializer=tf.glorot_uniform_initializer(), \\\n",
    "        padding=\"same\", activation=None, name='conv1')\n",
    "tr_h = tf.layers.batch_normalization(tr_h, training=True, name='bn1')\n",
    "tr_h = tf.nn.relu(tr_h)\n",
    "tr_h = tf.layers.max_pooling2d(tr_h, pool_size=[2, 2], strides=2, \\\n",
    "        name='pool1')\n",
    "\n",
    "# Second convolution layer\n",
    "tr_h = tf.layers.conv2d(tr_h, filters=32, kernel_size=[5, 5], \\\n",
    "        kernel_initializer=tf.glorot_uniform_initializer(), \\\n",
    "        padding=\"same\", activation=None, name='conv2')\n",
    "tr_h = tf.layers.batch_normalization(tr_h, training=True, name='bn2')\n",
    "tr_h = tf.nn.relu(tr_h)\n",
    "tr_h = tf.layers.max_pooling2d(tr_h, pool_size=[2, 2], strides=2, \\\n",
    "        name='pool2')\n",
    "\n",
    "\n",
    "# Do a two layer dense neural network on these outputs\n",
    "test_out1 = tr_h\n",
    "tr_h = tf.reshape(tr_h, [-1, 1568])\n",
    "test_out2 = tr_h\n",
    "tr_h = tf.layers.dense(tr_h, 32, kernel_initializer=tf.glorot_uniform_initializer(), \\\n",
    "        activation=None, name='dense1')\n",
    "tr_h = tf.nn.relu(tr_h)\n",
    "tr_h = tf.layers.dropout(tr_h, rate=0.25, training=True, name='dropout1')\n",
    "tr_logits = tf.layers.dense(tr_h, 10, kernel_initializer=tf.glorot_uniform_initializer(), \\\n",
    "        activation=tf.identity, name='dense2')\n",
    "\n",
    "\n",
    "# Layers of the neural network, testing\n",
    "\n",
    "# Reshape data into the shape of pictures for convolutional layers\n",
    "#tst_in_rs = tf.reshape(tst_in, shape=[-1, 28, 28, 1])\n",
    "\n",
    "# First convolutional layer\n",
    "#tst_h = tf.layers.conv2d(tst_in_rs, filters=32, kernel_size=[5, 5], \\\n",
    "#        kernel_initializer=tf.glorot_uniform_initializer(), \\\n",
    "#        padding=\"same\", activation=None, name='conv1', reuse=True)\n",
    "#tst_h = tf.layers.batch_normalization(tst_h, training=False, name='bn1', reuse=True)\n",
    "#tst_h = tf.nn.relu(tst_h)\n",
    "#tst_h = tf.layers.max_pooling2d(tst_h, pool_size=[2, 2], strides=2, \\\n",
    "#        name='pool1')\n",
    "\n",
    "# Second convolution layer\n",
    "#tst_h = tf.layers.conv2d(tst_h, filters=32, kernel_size=[5, 5], \\\n",
    "#        kernel_initializer=tf.glorot_uniform_initializer(), \\\n",
    "#        padding=\"same\", activation=None, name='conv2', reuse=True)\n",
    "#tst_h = tf.layers.batch_normalization(tst_h, training=False, name='bn2', reuse=True)\n",
    "#tst_h = tf.nn.relu(tst_h)\n",
    "#tst_h = tf.layers.max_pooling2d(tst_h, pool_size=[2, 2], strides=2, \\\n",
    "#        name='pool2')\n",
    "\n",
    "# Do a two layer dense neural network on these outputs\n",
    "#tst_h = tf.reshape(tst_h, [-1, 1568])\n",
    "#tst_h = tf.layers.dense(tst_h, 32, kernel_initializer=tf.glorot_uniform_initializer(), \\\n",
    "#        activation=None, name='dense1', reuse=True)\n",
    "#tst_h = tf.nn.relu(tst_h)\n",
    "#tst_logits = tf.layers.dense(tst_h, 10, kernel_initializer=tf.glorot_uniform_initializer(), \\\n",
    "#        activation=tf.identity, name='dense2', reuse=True)\n",
    "\n",
    "# Turn output layer into softmax job\n",
    "#tr_sm = tf.nn.softmax(tr_logits)\n",
    "#tst_sm = tf.nn.softmax(tst_logits)\n",
    "\n",
    "# Calculate the cost and run the optimiser\n",
    "tr_cost = tf.reduce_mean(tf.nn.softmax_cross_entropy_with_logits_v2(labels=tr_tgt, logits=tr_logits))\n",
    "#tst_cost = tf.reduce_mean(tf.nn.softmax_cross_entropy_with_logits_v2(labels=tst_tgt, logits=tst_logits))\n",
    "optimizer = tf.train.AdamOptimizer(learning_rate=learnrate).minimize(tr_cost)"
   ]
  },
  {
   "cell_type": "code",
   "execution_count": 252,
   "metadata": {
    "collapsed": true
   },
   "outputs": [],
   "source": [
    "init = tf.initializers.global_variables()"
   ]
  },
  {
   "cell_type": "code",
   "execution_count": 253,
   "metadata": {},
   "outputs": [
    {
     "name": "stdout",
     "output_type": "stream",
     "text": [
      "0 0 0.07 0.0903\n",
      "0 1 0.08 0.1009\n",
      "0 2 0.09 0.1032\n",
      "0 3 0.21 0.1032\n",
      "0 4 0.16 0.1048\n",
      "0 5 0.13 0.1196\n",
      "0 6 0.11 0.1794\n",
      "0 7 0.08 0.165\n",
      "0 8 0.08 0.1479\n",
      "0 9 0.1 0.1377\n",
      "0 10 0.16 0.1306\n",
      "0 11 0.11 0.125\n",
      "0 12 0.11 0.1221\n",
      "0 13 0.07 0.1196\n",
      "0 14 0.11 0.1176\n",
      "0 15 0.08 0.1162\n",
      "0 16 0.14 0.1151\n",
      "0 17 0.08 0.1147\n",
      "0 18 0.1 0.1146\n",
      "0 19 0.08 0.1142\n",
      "0 20 0.1 0.1141\n",
      "0 21 0.15 0.1141\n",
      "0 22 0.05 0.1141\n"
     ]
    },
    {
     "ename": "KeyboardInterrupt",
     "evalue": "",
     "output_type": "error",
     "traceback": [
      "\u001b[0;31m---------------------------------------------------------------------------\u001b[0m",
      "\u001b[0;31mKeyboardInterrupt\u001b[0m                         Traceback (most recent call last)",
      "\u001b[0;32m<ipython-input-253-95bbb1d43ae4>\u001b[0m in \u001b[0;36m<module>\u001b[0;34m()\u001b[0m\n\u001b[1;32m     43\u001b[0m                     \u001b[0mtst_cost\u001b[0m\u001b[0;34m,\u001b[0m \u001b[0mtst_sm\u001b[0m\u001b[0;34m,\u001b[0m \u001b[0mtst_tgt\u001b[0m\u001b[0;31m \u001b[0m\u001b[0;31m\\\u001b[0m\u001b[0;34m\u001b[0m\u001b[0m\n\u001b[1;32m     44\u001b[0m                     ]\n\u001b[0;32m---> 45\u001b[0;31m             \u001b[0miter_outputs\u001b[0m \u001b[0;34m=\u001b[0m \u001b[0msess\u001b[0m\u001b[0;34m.\u001b[0m\u001b[0mrun\u001b[0m\u001b[0;34m(\u001b[0m\u001b[0miter_wanted\u001b[0m\u001b[0;34m,\u001b[0m \u001b[0mfeed_dict\u001b[0m\u001b[0;34m=\u001b[0m\u001b[0mfeed_dict\u001b[0m\u001b[0;34m)\u001b[0m\u001b[0;34m\u001b[0m\u001b[0m\n\u001b[0m\u001b[1;32m     46\u001b[0m             \u001b[0m_\u001b[0m \u001b[0;34m=\u001b[0m \u001b[0miter_outputs\u001b[0m\u001b[0;34m[\u001b[0m\u001b[0;36m0\u001b[0m\u001b[0;34m]\u001b[0m\u001b[0;34m\u001b[0m\u001b[0m\n\u001b[1;32m     47\u001b[0m             \u001b[0mout_tr_cost\u001b[0m\u001b[0;34m,\u001b[0m \u001b[0mout_tr_sm\u001b[0m\u001b[0;34m,\u001b[0m \u001b[0mout_tr_tgt\u001b[0m \u001b[0;34m=\u001b[0m \u001b[0miter_outputs\u001b[0m\u001b[0;34m[\u001b[0m\u001b[0;36m1\u001b[0m\u001b[0;34m:\u001b[0m\u001b[0;36m4\u001b[0m\u001b[0;34m]\u001b[0m\u001b[0;34m\u001b[0m\u001b[0m\n",
      "\u001b[0;32m~/anaconda3/lib/python3.6/site-packages/tensorflow/python/client/session.py\u001b[0m in \u001b[0;36mrun\u001b[0;34m(self, fetches, feed_dict, options, run_metadata)\u001b[0m\n\u001b[1;32m    885\u001b[0m     \u001b[0;32mtry\u001b[0m\u001b[0;34m:\u001b[0m\u001b[0;34m\u001b[0m\u001b[0m\n\u001b[1;32m    886\u001b[0m       result = self._run(None, fetches, feed_dict, options_ptr,\n\u001b[0;32m--> 887\u001b[0;31m                          run_metadata_ptr)\n\u001b[0m\u001b[1;32m    888\u001b[0m       \u001b[0;32mif\u001b[0m \u001b[0mrun_metadata\u001b[0m\u001b[0;34m:\u001b[0m\u001b[0;34m\u001b[0m\u001b[0m\n\u001b[1;32m    889\u001b[0m         \u001b[0mproto_data\u001b[0m \u001b[0;34m=\u001b[0m \u001b[0mtf_session\u001b[0m\u001b[0;34m.\u001b[0m\u001b[0mTF_GetBuffer\u001b[0m\u001b[0;34m(\u001b[0m\u001b[0mrun_metadata_ptr\u001b[0m\u001b[0;34m)\u001b[0m\u001b[0;34m\u001b[0m\u001b[0m\n",
      "\u001b[0;32m~/anaconda3/lib/python3.6/site-packages/tensorflow/python/client/session.py\u001b[0m in \u001b[0;36m_run\u001b[0;34m(self, handle, fetches, feed_dict, options, run_metadata)\u001b[0m\n\u001b[1;32m   1108\u001b[0m     \u001b[0;32mif\u001b[0m \u001b[0mfinal_fetches\u001b[0m \u001b[0;32mor\u001b[0m \u001b[0mfinal_targets\u001b[0m \u001b[0;32mor\u001b[0m \u001b[0;34m(\u001b[0m\u001b[0mhandle\u001b[0m \u001b[0;32mand\u001b[0m \u001b[0mfeed_dict_tensor\u001b[0m\u001b[0;34m)\u001b[0m\u001b[0;34m:\u001b[0m\u001b[0;34m\u001b[0m\u001b[0m\n\u001b[1;32m   1109\u001b[0m       results = self._do_run(handle, final_targets, final_fetches,\n\u001b[0;32m-> 1110\u001b[0;31m                              feed_dict_tensor, options, run_metadata)\n\u001b[0m\u001b[1;32m   1111\u001b[0m     \u001b[0;32melse\u001b[0m\u001b[0;34m:\u001b[0m\u001b[0;34m\u001b[0m\u001b[0m\n\u001b[1;32m   1112\u001b[0m       \u001b[0mresults\u001b[0m \u001b[0;34m=\u001b[0m \u001b[0;34m[\u001b[0m\u001b[0;34m]\u001b[0m\u001b[0;34m\u001b[0m\u001b[0m\n",
      "\u001b[0;32m~/anaconda3/lib/python3.6/site-packages/tensorflow/python/client/session.py\u001b[0m in \u001b[0;36m_do_run\u001b[0;34m(self, handle, target_list, fetch_list, feed_dict, options, run_metadata)\u001b[0m\n\u001b[1;32m   1284\u001b[0m     \u001b[0;32mif\u001b[0m \u001b[0mhandle\u001b[0m \u001b[0;32mis\u001b[0m \u001b[0;32mNone\u001b[0m\u001b[0;34m:\u001b[0m\u001b[0;34m\u001b[0m\u001b[0m\n\u001b[1;32m   1285\u001b[0m       return self._do_call(_run_fn, feeds, fetches, targets, options,\n\u001b[0;32m-> 1286\u001b[0;31m                            run_metadata)\n\u001b[0m\u001b[1;32m   1287\u001b[0m     \u001b[0;32melse\u001b[0m\u001b[0;34m:\u001b[0m\u001b[0;34m\u001b[0m\u001b[0m\n\u001b[1;32m   1288\u001b[0m       \u001b[0;32mreturn\u001b[0m \u001b[0mself\u001b[0m\u001b[0;34m.\u001b[0m\u001b[0m_do_call\u001b[0m\u001b[0;34m(\u001b[0m\u001b[0m_prun_fn\u001b[0m\u001b[0;34m,\u001b[0m \u001b[0mhandle\u001b[0m\u001b[0;34m,\u001b[0m \u001b[0mfeeds\u001b[0m\u001b[0;34m,\u001b[0m \u001b[0mfetches\u001b[0m\u001b[0;34m)\u001b[0m\u001b[0;34m\u001b[0m\u001b[0m\n",
      "\u001b[0;32m~/anaconda3/lib/python3.6/site-packages/tensorflow/python/client/session.py\u001b[0m in \u001b[0;36m_do_call\u001b[0;34m(self, fn, *args)\u001b[0m\n\u001b[1;32m   1290\u001b[0m   \u001b[0;32mdef\u001b[0m \u001b[0m_do_call\u001b[0m\u001b[0;34m(\u001b[0m\u001b[0mself\u001b[0m\u001b[0;34m,\u001b[0m \u001b[0mfn\u001b[0m\u001b[0;34m,\u001b[0m \u001b[0;34m*\u001b[0m\u001b[0margs\u001b[0m\u001b[0;34m)\u001b[0m\u001b[0;34m:\u001b[0m\u001b[0;34m\u001b[0m\u001b[0m\n\u001b[1;32m   1291\u001b[0m     \u001b[0;32mtry\u001b[0m\u001b[0;34m:\u001b[0m\u001b[0;34m\u001b[0m\u001b[0m\n\u001b[0;32m-> 1292\u001b[0;31m       \u001b[0;32mreturn\u001b[0m \u001b[0mfn\u001b[0m\u001b[0;34m(\u001b[0m\u001b[0;34m*\u001b[0m\u001b[0margs\u001b[0m\u001b[0;34m)\u001b[0m\u001b[0;34m\u001b[0m\u001b[0m\n\u001b[0m\u001b[1;32m   1293\u001b[0m     \u001b[0;32mexcept\u001b[0m \u001b[0merrors\u001b[0m\u001b[0;34m.\u001b[0m\u001b[0mOpError\u001b[0m \u001b[0;32mas\u001b[0m \u001b[0me\u001b[0m\u001b[0;34m:\u001b[0m\u001b[0;34m\u001b[0m\u001b[0m\n\u001b[1;32m   1294\u001b[0m       \u001b[0mmessage\u001b[0m \u001b[0;34m=\u001b[0m \u001b[0mcompat\u001b[0m\u001b[0;34m.\u001b[0m\u001b[0mas_text\u001b[0m\u001b[0;34m(\u001b[0m\u001b[0me\u001b[0m\u001b[0;34m.\u001b[0m\u001b[0mmessage\u001b[0m\u001b[0;34m)\u001b[0m\u001b[0;34m\u001b[0m\u001b[0m\n",
      "\u001b[0;32m~/anaconda3/lib/python3.6/site-packages/tensorflow/python/client/session.py\u001b[0m in \u001b[0;36m_run_fn\u001b[0;34m(feed_dict, fetch_list, target_list, options, run_metadata)\u001b[0m\n\u001b[1;32m   1275\u001b[0m       \u001b[0mself\u001b[0m\u001b[0;34m.\u001b[0m\u001b[0m_extend_graph\u001b[0m\u001b[0;34m(\u001b[0m\u001b[0;34m)\u001b[0m\u001b[0;34m\u001b[0m\u001b[0m\n\u001b[1;32m   1276\u001b[0m       return self._call_tf_sessionrun(\n\u001b[0;32m-> 1277\u001b[0;31m           options, feed_dict, fetch_list, target_list, run_metadata)\n\u001b[0m\u001b[1;32m   1278\u001b[0m \u001b[0;34m\u001b[0m\u001b[0m\n\u001b[1;32m   1279\u001b[0m     \u001b[0;32mdef\u001b[0m \u001b[0m_prun_fn\u001b[0m\u001b[0;34m(\u001b[0m\u001b[0mhandle\u001b[0m\u001b[0;34m,\u001b[0m \u001b[0mfeed_dict\u001b[0m\u001b[0;34m,\u001b[0m \u001b[0mfetch_list\u001b[0m\u001b[0;34m)\u001b[0m\u001b[0;34m:\u001b[0m\u001b[0;34m\u001b[0m\u001b[0m\n",
      "\u001b[0;32m~/anaconda3/lib/python3.6/site-packages/tensorflow/python/client/session.py\u001b[0m in \u001b[0;36m_call_tf_sessionrun\u001b[0;34m(self, options, feed_dict, fetch_list, target_list, run_metadata)\u001b[0m\n\u001b[1;32m   1365\u001b[0m     return tf_session.TF_SessionRun_wrapper(\n\u001b[1;32m   1366\u001b[0m         \u001b[0mself\u001b[0m\u001b[0;34m.\u001b[0m\u001b[0m_session\u001b[0m\u001b[0;34m,\u001b[0m \u001b[0moptions\u001b[0m\u001b[0;34m,\u001b[0m \u001b[0mfeed_dict\u001b[0m\u001b[0;34m,\u001b[0m \u001b[0mfetch_list\u001b[0m\u001b[0;34m,\u001b[0m \u001b[0mtarget_list\u001b[0m\u001b[0;34m,\u001b[0m\u001b[0;34m\u001b[0m\u001b[0m\n\u001b[0;32m-> 1367\u001b[0;31m         run_metadata)\n\u001b[0m\u001b[1;32m   1368\u001b[0m \u001b[0;34m\u001b[0m\u001b[0m\n\u001b[1;32m   1369\u001b[0m   \u001b[0;32mdef\u001b[0m \u001b[0m_call_tf_sessionprun\u001b[0m\u001b[0;34m(\u001b[0m\u001b[0mself\u001b[0m\u001b[0;34m,\u001b[0m \u001b[0mhandle\u001b[0m\u001b[0;34m,\u001b[0m \u001b[0mfeed_dict\u001b[0m\u001b[0;34m,\u001b[0m \u001b[0mfetch_list\u001b[0m\u001b[0;34m)\u001b[0m\u001b[0;34m:\u001b[0m\u001b[0;34m\u001b[0m\u001b[0m\n",
      "\u001b[0;31mKeyboardInterrupt\u001b[0m: "
     ]
    }
   ],
   "source": [
    "\"\"\"Train the neural network.\"\"\"\n",
    "\n",
    "with tf.Session() as sess:\n",
    "    \n",
    "    num_tr = g_tr_data.shape[0]\n",
    "    num_tst = g_tst_data.shape[0]\n",
    "    \n",
    "    batch_size = 100   # Must divide num_tr\n",
    "    num_batches = int(num_tr / batch_size + 0.00001)\n",
    "    # Error metrics are recorded every batch_recordspace batches\n",
    "    batch_recordspace = 50\n",
    "    \n",
    "    # Create a pandas DataFrame where the training and testing error is put\n",
    "    columns = ['epoch', 'batch', 'training', 'testing']\n",
    "    num_rows = int(num_batches * epochs / batch_recordspace + 0.00001)\n",
    "    index = np.arange(num_rows)\n",
    "    Prop_Correct = pd.DataFrame(np.zeros((num_rows,4)), index=index, columns=columns)\n",
    "    \n",
    "    # Initialise all variables\n",
    "    sess.run(init)\n",
    "    \n",
    "    start_time = time.time()\n",
    "    \n",
    "    # Do the training, epoch is one run through full dataset\n",
    "    for epoch in range(epochs):\n",
    "        # One training iteration per batch\n",
    "        for batch in range(num_batches):\n",
    "            \n",
    "            # Input the batch of training and testing data\n",
    "            range_left = batch * batch_size\n",
    "            range_right = (batch + 1) * batch_size\n",
    "            feed_dict = {\n",
    "                    tr_in: g_tr_data[range_left:range_right], \\\n",
    "                    tr_tgt: g_tr_labels_vc[range_left:range_right], \\\n",
    "                    tst_in: g_tst_data, \\\n",
    "                    tst_tgt: g_tst_labels_vc \\\n",
    "                    }\n",
    "        \n",
    "            # Run one iteration of neural network trainer\n",
    "            iter_wanted = [\n",
    "                    optimizer, \\\n",
    "                    tr_cost, tr_sm, tr_tgt, \\\n",
    "                    tst_cost, tst_sm, tst_tgt \\\n",
    "                    ]\n",
    "            iter_outputs = sess.run(iter_wanted, feed_dict=feed_dict)\n",
    "            _ = iter_outputs[0]\n",
    "            out_tr_cost, out_tr_sm, out_tr_tgt = iter_outputs[1:4]\n",
    "            out_tst_cost, out_tst_sm, out_tst_tgt = iter_outputs[4:7]\n",
    "        \n",
    "            # Find the proportion of correctly identified numbers in training dataset\n",
    "            tr_truth = np.argmax(out_tr_tgt, axis=1)\n",
    "            tr_nn_guess = np.argmax(out_tr_sm, axis=1)\n",
    "            tr_num_correct = batch_size - len(np.nonzero(tr_nn_guess - tr_truth)[0])\n",
    "            tr_fraction_correct = tr_num_correct / batch_size\n",
    "        \n",
    "            # Find the proportion of correctly identified numbers in testing dataset\n",
    "            tst_truth = np.argmax(out_tst_tgt, axis=1)\n",
    "            tst_nn_guess = np.argmax(out_tst_sm, axis=1)\n",
    "            tst_num_correct = num_tst - len(np.nonzero(tst_nn_guess - tst_truth)[0])\n",
    "            tst_fraction_correct = tst_num_correct / num_tst\n",
    "            \n",
    "            print(epoch, batch, tr_fraction_correct, tst_fraction_correct)\n",
    "            \n",
    "            # Print and input some outputs (training and testing errors)\n",
    "#            if batch % batch_recordspace == 0:\n",
    "#                print(epoch, batch, tr_fraction_correct, tst_fraction_correct)\n",
    "#                row_num = int((epoch * num_batches + batch) / batch_recordspace + 0.00001)\n",
    "#                Prop_Correct.loc[row_num, :] = [ \\\n",
    "#                        epoch, batch, tr_fraction_correct, tst_fraction_correct]\n",
    "    \n",
    "    # Output a pandas DataFrame with the training and testing errors\n",
    "#    Prop_Correct.to_csv('2HL.csv')\n",
    "    \n",
    "    end_time = time.time()\n",
    "    print('Time taken: {}s'.format(end_time - start_time))\n",
    "    \n",
    "    \n",
    "    # Calculate the number correct across the whole dataset\n",
    "            \n",
    "    # Input the batch of training and testing data\n",
    "    feed_dict = {\n",
    "            tr_in: g_tr_data, \\\n",
    "            tr_tgt: g_tr_labels_vc, \\\n",
    "            tst_in: g_tst_data, \\\n",
    "            tst_tgt: g_tst_labels_vc \\\n",
    "            }\n",
    "        \n",
    "    # Run neural network again on whole training dataset\n",
    "    run_wanted = [tr_sm, tr_tgt, tst_sm, tst_tgt]\n",
    "    run_outputs = sess.run(run_wanted, feed_dict=feed_dict)\n",
    "    out_tr_sm, out_tr_tgt, out_tst_sm, out_tst_tgt = run_outputs\n",
    "            \n",
    "    # Find the proportion of correctly identified numbers in training dataset\n",
    "    # (The testing dataset has already been done)\n",
    "    tr_truth = np.argmax(out_tr_tgt, axis=1)\n",
    "    tr_nn_guess = np.argmax(out_tr_sm, axis=1)\n",
    "    tr_num_correct = num_tr - len(np.nonzero(tr_nn_guess - tr_truth)[0])\n",
    "    tr_fraction_correct = tr_num_correct / num_tr\n",
    "            \n",
    "    print('Correct, training dataset: {}'.format(tr_fraction_correct))\n",
    "    print('Correct, testing dataset: {}'.format(tst_fraction_correct)) \n",
    "    \n",
    "    "
   ]
  },
  {
   "cell_type": "code",
   "execution_count": null,
   "metadata": {
    "collapsed": true
   },
   "outputs": [],
   "source": [
    "\"\"\"Calculate number of variables\"\"\"\n",
    "\n",
    "len(tf.global_variables())"
   ]
  },
  {
   "cell_type": "code",
   "execution_count": null,
   "metadata": {
    "collapsed": true
   },
   "outputs": [],
   "source": [
    "\"\"\"Important results:\n",
    "\n",
    "                        1 hidden   2 hidden\n",
    "                        layer      layers\n",
    "                        \n",
    "Number of parameters:   14         20\n",
    "Time taken (5 epochs):  172s       223s\n",
    "Final training error:   0.971      0.956\n",
    "Final testing error:    0.962      0.948\n",
    "\n",
    "\"\"\""
   ]
  },
  {
   "cell_type": "code",
   "execution_count": null,
   "metadata": {
    "collapsed": true
   },
   "outputs": [],
   "source": [
    "\"\"\"Plot training and testing errors\"\"\"\n",
    "\n",
    "fig, (ax1, ax2) = plt.subplots(1, 2, sharey=True)\n",
    "errors_1HL = pd.read_csv('1HL.csv', index_col=[0])\n",
    "errors_2HL = pd.read_csv('2HL.csv', index_col=[0])\n",
    "\n",
    "X = (np.arange(60) + 1) / 12\n",
    "tr_1HL = errors_1HL.loc[:, 'training']\n",
    "tst_1HL = errors_1HL.loc[:, 'testing']\n",
    "tr_2HL = errors_2HL.loc[:, 'training']\n",
    "tst_2HL = errors_2HL.loc[:, 'testing']\n",
    "ax1.plot(X, tr_1HL)\n",
    "ax1.plot(X, tst_1HL)\n",
    "ax2.plot(X, tr_2HL)\n",
    "ax2.plot(X, tst_2HL)\n",
    "ax1.set_xlabel('Runs through dataset')\n",
    "ax2.set_xlabel('Runs through dataset')\n",
    "ax1.set_ylabel('Proportion correct')\n",
    "ax1.set_title('1 Hidden layer')\n",
    "ax2.set_title('2 Hidden layers')\n",
    "ax1.legend()\n",
    "ax2.legend()\n",
    "plt.savefig('Errors')"
   ]
  }
 ],
 "metadata": {
  "kernelspec": {
   "display_name": "Python 3",
   "language": "python",
   "name": "python3"
  },
  "language_info": {
   "codemirror_mode": {
    "name": "ipython",
    "version": 3
   },
   "file_extension": ".py",
   "mimetype": "text/x-python",
   "name": "python",
   "nbconvert_exporter": "python",
   "pygments_lexer": "ipython3",
   "version": "3.6.3"
  }
 },
 "nbformat": 4,
 "nbformat_minor": 2
}
