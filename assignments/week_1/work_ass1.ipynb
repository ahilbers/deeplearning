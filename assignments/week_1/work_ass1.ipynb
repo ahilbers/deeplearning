{
 "cells": [
  {
   "cell_type": "code",
   "execution_count": 1,
   "metadata": {},
   "outputs": [
    {
     "name": "stderr",
     "output_type": "stream",
     "text": [
      "/Users/aph416/anaconda3/lib/python3.6/site-packages/h5py/__init__.py:34: FutureWarning: Conversion of the second argument of issubdtype from `float` to `np.floating` is deprecated. In future, it will be treated as `np.float64 == np.dtype(float).type`.\n",
      "  from ._conv import register_converters as _register_converters\n"
     ]
    }
   ],
   "source": [
    "import numpy as np\n",
    "import pandas as pd\n",
    "import matplotlib.pyplot as plt\n",
    "import tensorflow as tf"
   ]
  },
  {
   "cell_type": "code",
   "execution_count": 2,
   "metadata": {
    "collapsed": true
   },
   "outputs": [],
   "source": [
    "\"\"\"Import the dataset as a pandas DataFrame\"\"\"\n",
    "\n",
    "g_data = pd.read_csv('poverty.txt', delim_whitespace=True, \\\n",
    "        index_col=[0])"
   ]
  },
  {
   "cell_type": "code",
   "execution_count": 3,
   "metadata": {},
   "outputs": [
    {
     "data": {
      "text/html": [
       "<div>\n",
       "<style scoped>\n",
       "    .dataframe tbody tr th:only-of-type {\n",
       "        vertical-align: middle;\n",
       "    }\n",
       "\n",
       "    .dataframe tbody tr th {\n",
       "        vertical-align: top;\n",
       "    }\n",
       "\n",
       "    .dataframe thead th {\n",
       "        text-align: right;\n",
       "    }\n",
       "</style>\n",
       "<table border=\"1\" class=\"dataframe\">\n",
       "  <thead>\n",
       "    <tr style=\"text-align: right;\">\n",
       "      <th></th>\n",
       "      <th>PovPct</th>\n",
       "      <th>Brth15to17</th>\n",
       "      <th>Brth18to19</th>\n",
       "      <th>ViolCrime</th>\n",
       "      <th>TeenBrth</th>\n",
       "    </tr>\n",
       "    <tr>\n",
       "      <th>Location</th>\n",
       "      <th></th>\n",
       "      <th></th>\n",
       "      <th></th>\n",
       "      <th></th>\n",
       "      <th></th>\n",
       "    </tr>\n",
       "  </thead>\n",
       "  <tbody>\n",
       "    <tr>\n",
       "      <th>Alabama</th>\n",
       "      <td>20.1</td>\n",
       "      <td>31.5</td>\n",
       "      <td>88.7</td>\n",
       "      <td>11.2</td>\n",
       "      <td>54.5</td>\n",
       "    </tr>\n",
       "    <tr>\n",
       "      <th>Alaska</th>\n",
       "      <td>7.1</td>\n",
       "      <td>18.9</td>\n",
       "      <td>73.7</td>\n",
       "      <td>9.1</td>\n",
       "      <td>39.5</td>\n",
       "    </tr>\n",
       "    <tr>\n",
       "      <th>Arizona</th>\n",
       "      <td>16.1</td>\n",
       "      <td>35.0</td>\n",
       "      <td>102.5</td>\n",
       "      <td>10.4</td>\n",
       "      <td>61.2</td>\n",
       "    </tr>\n",
       "    <tr>\n",
       "      <th>Arkansas</th>\n",
       "      <td>14.9</td>\n",
       "      <td>31.6</td>\n",
       "      <td>101.7</td>\n",
       "      <td>10.4</td>\n",
       "      <td>59.9</td>\n",
       "    </tr>\n",
       "    <tr>\n",
       "      <th>California</th>\n",
       "      <td>16.7</td>\n",
       "      <td>22.6</td>\n",
       "      <td>69.1</td>\n",
       "      <td>11.2</td>\n",
       "      <td>41.1</td>\n",
       "    </tr>\n",
       "  </tbody>\n",
       "</table>\n",
       "</div>"
      ],
      "text/plain": [
       "            PovPct  Brth15to17  Brth18to19  ViolCrime  TeenBrth\n",
       "Location                                                       \n",
       "Alabama       20.1        31.5        88.7       11.2      54.5\n",
       "Alaska         7.1        18.9        73.7        9.1      39.5\n",
       "Arizona       16.1        35.0       102.5       10.4      61.2\n",
       "Arkansas      14.9        31.6       101.7       10.4      59.9\n",
       "California    16.7        22.6        69.1       11.2      41.1"
      ]
     },
     "execution_count": 3,
     "metadata": {},
     "output_type": "execute_result"
    }
   ],
   "source": [
    "g_data.head()"
   ]
  },
  {
   "cell_type": "code",
   "execution_count": 4,
   "metadata": {
    "collapsed": true
   },
   "outputs": [],
   "source": [
    "\"\"\"Set up the tensorflow graph\"\"\"\n",
    "\n",
    "# Placeholders for matrix and vector in normal equation\n",
    "A = tf.placeholder(tf.float32)\n",
    "b = tf.placeholder(tf.float32)\n",
    "    \n",
    "# Do the calculations for the normal operation\n",
    "Atran_A_inv = tf.matrix_inverse(tf.matmul(tf.transpose(A), A))\n",
    "Atran_A_inv_Atran = tf.matmul(Atran_A_inv, tf.transpose(A))\n",
    "x = tf.matmul(Atran_A_inv_Atran, b)"
   ]
  },
  {
   "cell_type": "code",
   "execution_count": 5,
   "metadata": {},
   "outputs": [
    {
     "name": "stdout",
     "output_type": "stream",
     "text": [
      "Regression equation:\n",
      "'Brth15to17' = 1.37 + 4.27'PovPct'\n"
     ]
    }
   ],
   "source": [
    "\"\"\"Regress 'Brth15to17' against 'PovPct'\"\"\"\n",
    "\n",
    "with tf.Session() as sess:\n",
    "    \n",
    "    # Create the feed dictionary. Careful that column vectors do not become 1D arrays\n",
    "    data_A = np.array(g_data.loc[:, 'PovPct'], ndmin=2).T\n",
    "    ones_A = np.array(np.ones(g_data.shape[0]), ndmin=2).T\n",
    "    input_A = np.hstack((data_A, ones_A))\n",
    "    input_b = np.array(g_data.loc[:, 'Brth15to17'], ndmin=2).T\n",
    "    feed_dict = {A: input_A, b: input_b}\n",
    "    \n",
    "    # Run the session\n",
    "    output = sess.run(x, feed_dict=feed_dict)\n",
    "    \n",
    "    # Print the regression equation\n",
    "    print('Regression equation:')\n",
    "    print('\\'Brth15to17\\' = %.2f + %.2f\\'PovPct\\'' % (output[0], output[1]))\n",
    "    \n",
    "    # Graph of regression\n",
    "    X = np.arange(0, 31)\n",
    "    Y = output[0]*X + output[1]\n",
    "    \n",
    "    # Make a plot of the data and the linear regression\n",
    "    fig, ax = plt.subplots()\n",
    "    ax.scatter(g_data['PovPct'], g_data['Brth15to17'])                    # Scatterplot of data\n",
    "    ax.plot(X, Y, color='k')                                               # Plot of regression\n",
    "    ax.set_xlabel('Poverty (%)')\n",
    "    ax.set_ylabel('Births 15-17')\n",
    "    ax.set_title('Births 15-17 vs. Poverty %')\n",
    "    plt.savefig('regression_Brth15to17_PovPct.png')"
   ]
  },
  {
   "cell_type": "code",
   "execution_count": 6,
   "metadata": {},
   "outputs": [
    {
     "name": "stdout",
     "output_type": "stream",
     "text": [
      "Regression equation:\n",
      "'Brth15to17' = 1.04 + 0.34'PovPct' + 5.98'ViolCrime'\n"
     ]
    }
   ],
   "source": [
    "\"\"\"Regress 'Brth15to17' against 'PovPct' and 'ViolCrime'\"\"\"\n",
    "\n",
    "with tf.Session() as sess:\n",
    "    \n",
    "    # Create the feed dictionary. Careful that column vectors do not become 1D arrays\n",
    "    data_A = np.array(g_data.loc[:, ['PovPct', 'ViolCrime']])\n",
    "    ones_A = np.array(np.ones(g_data.shape[0]), ndmin=2).T\n",
    "    input_A = np.hstack((data_A, ones_A))\n",
    "    input_b = np.array(g_data.loc[:, 'Brth15to17'], ndmin=2).T\n",
    "    feed_dict = {A: input_A, b: input_b}\n",
    "    \n",
    "    # Run the session\n",
    "    output = sess.run(x, feed_dict=feed_dict)\n",
    "    \n",
    "    # Print the regression equation\n",
    "    print('Regression equation:')\n",
    "    print('\\'Brth15to17\\' = %.2f + %.2f\\'PovPct\\' + %.2f\\'ViolCrime\\'' \\\n",
    "            % (output[0], output[1], output[2]))"
   ]
  },
  {
   "cell_type": "code",
   "execution_count": null,
   "metadata": {
    "collapsed": true
   },
   "outputs": [],
   "source": []
  }
 ],
 "metadata": {
  "kernelspec": {
   "display_name": "Python 3",
   "language": "python",
   "name": "python3"
  },
  "language_info": {
   "codemirror_mode": {
    "name": "ipython",
    "version": 3
   },
   "file_extension": ".py",
   "mimetype": "text/x-python",
   "name": "python",
   "nbconvert_exporter": "python",
   "pygments_lexer": "ipython3",
   "version": "3.6.3"
  }
 },
 "nbformat": 4,
 "nbformat_minor": 2
}
