{
 "cells": [
  {
   "cell_type": "code",
   "execution_count": null,
   "metadata": {},
   "outputs": [],
   "source": [
    "import numpy as np\n",
    "import pandas as pd\n",
    "import matplotlib.pyplot as plt\n",
    "import tensorflow as tf"
   ]
  },
  {
   "cell_type": "markdown",
   "metadata": {},
   "source": [
    "# Import data"
   ]
  },
  {
   "cell_type": "code",
   "execution_count": null,
   "metadata": {},
   "outputs": [],
   "source": [
    "g_data = pd.read_csv('poverty.txt', delim_whitespace=True, \\\n",
    "        index_col=[0])\n",
    "g_data.head()"
   ]
  },
  {
   "cell_type": "markdown",
   "metadata": {},
   "source": [
    "# Set up tensorflow graph"
   ]
  },
  {
   "cell_type": "code",
   "execution_count": null,
   "metadata": {},
   "outputs": [],
   "source": [
    "class TF_regression:\n",
    "    def __init__(self):\n",
    "        self.sess = tf.Session()\n",
    "        self._build_graph()\n",
    "    \n",
    "    \n",
    "    def _build_graph(self):\n",
    "        self.A = tf.placeholder(dtype=tf.float32)\n",
    "        self.b = tf.placeholder(dtype=tf.float32)\n",
    "        \n",
    "        At = tf.transpose(self.A)\n",
    "        AtA = tf.matmul(At, self.A)\n",
    "        AtA_inv = tf.matrix_inverse(AtA)\n",
    "        AtA_invAt = tf.matmul(AtA_inv, At)\n",
    "        self.x = tf.matmul(AtA_invAt, self.b)\n",
    "        \n",
    "    \n",
    "    def onedim_regression(self, data):\n",
    "        self.sess.run(tf.global_variables_initializer())\n",
    "        \n",
    "        # Create feed dictionary. Careful with row and column vectors\n",
    "        data_A = np.array(data.loc[:, 'PovPct'], ndmin=2).T\n",
    "        ones_A = np.array(np.ones(data.shape[0]), ndmin=2).T\n",
    "        input_A = np.hstack((data_A, ones_A))\n",
    "        input_b = np.array(data.loc[:, 'Brth15to17'], ndmin=2).T\n",
    "        feed_dict = {self.A: input_A, self.b: input_b}\n",
    "        \n",
    "        output = self.sess.run(self.x, feed_dict=feed_dict)\n",
    "        \n",
    "        print('Regression equation:')\n",
    "        print('\\'Brth15to17\\' = %.2f + %.2f\\'PovPct\\'' % (output[0], output[1]))\n",
    "    \n",
    "        # Graph of regression\n",
    "        X = np.arange(0, 31)\n",
    "        Y = output[0]*X + output[1]\n",
    "        fig, ax = plt.subplots()\n",
    "        ax.scatter(g_data['PovPct'], g_data['Brth15to17'])    # Scatterplot of data\n",
    "        ax.plot(X, Y, color='k')    # Plot of regression\n",
    "        ax.set_xlabel('Poverty (%)')\n",
    "        ax.set_ylabel('Births 15-17')\n",
    "        ax.set_title('Births 15-17 vs. Poverty %')\n",
    "        plt.savefig('regression_Brth15to17_PovPct.pdf')\n",
    "        \n",
    "        \n",
    "    def twodim_regression(self, data):\n",
    "        self.sess.run(tf.global_variables_initializer())\n",
    "        \n",
    "        # Create feed dictionary. Careful with row and column vectors\n",
    "        data_A = np.array(data.loc[:, ['PovPct', 'ViolCrime']])\n",
    "        ones_A = np.array(np.ones(data.shape[0]), ndmin=2).T\n",
    "        input_A = np.hstack((data_A, ones_A))\n",
    "        input_b = np.array(data.loc[:, 'Brth15to17'], ndmin=2).T\n",
    "        feed_dict = {self.A: input_A, self.b: input_b}\n",
    "    \n",
    "        output = self.sess.run(self.x, feed_dict=feed_dict)\n",
    "    \n",
    "        # Print the regression equation\n",
    "        print('Regression equation:')\n",
    "        print('\\'Brth15to17\\' = %.2f + %.2f\\'PovPct\\' + %.2f\\'ViolCrime\\'' \\\n",
    "            % (output[0], output[1], output[2]))"
   ]
  },
  {
   "cell_type": "markdown",
   "metadata": {},
   "source": [
    "# Run regressions"
   ]
  },
  {
   "cell_type": "code",
   "execution_count": null,
   "metadata": {},
   "outputs": [],
   "source": [
    "model = TF_regression()\n",
    "model.onedim_regression(g_data)\n",
    "model.twodim_regression(g_data)"
   ]
  },
  {
   "cell_type": "code",
   "execution_count": null,
   "metadata": {},
   "outputs": [],
   "source": []
  }
 ],
 "metadata": {
  "kernelspec": {
   "display_name": "Python 3",
   "language": "python",
   "name": "python3"
  },
  "language_info": {
   "codemirror_mode": {
    "name": "ipython",
    "version": 3
   },
   "file_extension": ".py",
   "mimetype": "text/x-python",
   "name": "python",
   "nbconvert_exporter": "python",
   "pygments_lexer": "ipython3",
   "version": "3.6.0"
  }
 },
 "nbformat": 4,
 "nbformat_minor": 2
}
