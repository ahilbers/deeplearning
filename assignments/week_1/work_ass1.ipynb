{
 "cells": [
  {
   "cell_type": "code",
   "execution_count": 5,
   "metadata": {},
   "outputs": [],
   "source": [
    "import numpy as np\n",
    "import pandas as pd\n",
    "import matplotlib.pyplot as plt\n",
    "import tensorflow as tf"
   ]
  },
  {
   "cell_type": "markdown",
   "metadata": {},
   "source": [
    "# Import data"
   ]
  },
  {
   "cell_type": "code",
   "execution_count": 6,
   "metadata": {},
   "outputs": [
    {
     "data": {
      "text/html": [
       "<div>\n",
       "<style scoped>\n",
       "    .dataframe tbody tr th:only-of-type {\n",
       "        vertical-align: middle;\n",
       "    }\n",
       "\n",
       "    .dataframe tbody tr th {\n",
       "        vertical-align: top;\n",
       "    }\n",
       "\n",
       "    .dataframe thead th {\n",
       "        text-align: right;\n",
       "    }\n",
       "</style>\n",
       "<table border=\"1\" class=\"dataframe\">\n",
       "  <thead>\n",
       "    <tr style=\"text-align: right;\">\n",
       "      <th></th>\n",
       "      <th>PovPct</th>\n",
       "      <th>Brth15to17</th>\n",
       "      <th>Brth18to19</th>\n",
       "      <th>ViolCrime</th>\n",
       "      <th>TeenBrth</th>\n",
       "    </tr>\n",
       "    <tr>\n",
       "      <th>Location</th>\n",
       "      <th></th>\n",
       "      <th></th>\n",
       "      <th></th>\n",
       "      <th></th>\n",
       "      <th></th>\n",
       "    </tr>\n",
       "  </thead>\n",
       "  <tbody>\n",
       "    <tr>\n",
       "      <th>Alabama</th>\n",
       "      <td>20.1</td>\n",
       "      <td>31.5</td>\n",
       "      <td>88.7</td>\n",
       "      <td>11.2</td>\n",
       "      <td>54.5</td>\n",
       "    </tr>\n",
       "    <tr>\n",
       "      <th>Alaska</th>\n",
       "      <td>7.1</td>\n",
       "      <td>18.9</td>\n",
       "      <td>73.7</td>\n",
       "      <td>9.1</td>\n",
       "      <td>39.5</td>\n",
       "    </tr>\n",
       "    <tr>\n",
       "      <th>Arizona</th>\n",
       "      <td>16.1</td>\n",
       "      <td>35.0</td>\n",
       "      <td>102.5</td>\n",
       "      <td>10.4</td>\n",
       "      <td>61.2</td>\n",
       "    </tr>\n",
       "    <tr>\n",
       "      <th>Arkansas</th>\n",
       "      <td>14.9</td>\n",
       "      <td>31.6</td>\n",
       "      <td>101.7</td>\n",
       "      <td>10.4</td>\n",
       "      <td>59.9</td>\n",
       "    </tr>\n",
       "    <tr>\n",
       "      <th>California</th>\n",
       "      <td>16.7</td>\n",
       "      <td>22.6</td>\n",
       "      <td>69.1</td>\n",
       "      <td>11.2</td>\n",
       "      <td>41.1</td>\n",
       "    </tr>\n",
       "  </tbody>\n",
       "</table>\n",
       "</div>"
      ],
      "text/plain": [
       "            PovPct  Brth15to17  Brth18to19  ViolCrime  TeenBrth\n",
       "Location                                                       \n",
       "Alabama       20.1        31.5        88.7       11.2      54.5\n",
       "Alaska         7.1        18.9        73.7        9.1      39.5\n",
       "Arizona       16.1        35.0       102.5       10.4      61.2\n",
       "Arkansas      14.9        31.6       101.7       10.4      59.9\n",
       "California    16.7        22.6        69.1       11.2      41.1"
      ]
     },
     "execution_count": 6,
     "metadata": {},
     "output_type": "execute_result"
    }
   ],
   "source": [
    "g_data = pd.read_csv('poverty.txt', delim_whitespace=True, \\\n",
    "        index_col=[0])\n",
    "g_data.head()"
   ]
  },
  {
   "cell_type": "markdown",
   "metadata": {},
   "source": [
    "# Set up tensorflow graph"
   ]
  },
  {
   "cell_type": "code",
   "execution_count": 19,
   "metadata": {},
   "outputs": [],
   "source": [
    "class TF_regression:\n",
    "    def __init__(self):\n",
    "        self.sess = tf.Session()\n",
    "        self._build_graph()\n",
    "    \n",
    "    \n",
    "    def _build_graph(self):\n",
    "        self.A = tf.placeholder(dtype=tf.float32)\n",
    "        self.b = tf.placeholder(dtype=tf.float32)\n",
    "        \n",
    "        At = tf.transpose(self.A)\n",
    "        AtA = tf.matmul(At, self.A)\n",
    "        AtA_inv = tf.matrix_inverse(AtA)\n",
    "        AtA_invAt = tf.matmul(AtA_inv, At)\n",
    "        self.x = tf.matmul(AtA_invAt, self.b)\n",
    "        \n",
    "    \n",
    "    def onedim_regression(self, data):\n",
    "        self.sess.run(tf.global_variables_initializer())\n",
    "        \n",
    "        # Create feed dictionary. Careful with row and column vectors\n",
    "        data_A = np.array(data.loc[:, 'PovPct'], ndmin=2).T\n",
    "        ones_A = np.array(np.ones(data.shape[0]), ndmin=2).T\n",
    "        input_A = np.hstack((data_A, ones_A))\n",
    "        input_b = np.array(data.loc[:, 'Brth15to17'], ndmin=2).T\n",
    "        feed_dict = {self.A: input_A, self.b: input_b}\n",
    "        \n",
    "        output = self.sess.run(self.x, feed_dict=feed_dict)\n",
    "        \n",
    "        print('Regression equation:')\n",
    "        print('\\'Brth15to17\\' = %.2f + %.2f\\'PovPct\\'' % (output[0], output[1]))\n",
    "    \n",
    "        # Graph of regression\n",
    "        X = np.arange(0, 31)\n",
    "        Y = output[0]*X + output[1]\n",
    "        fig, ax = plt.subplots()\n",
    "        ax.scatter(g_data['PovPct'], g_data['Brth15to17'])    # Scatterplot of data\n",
    "        ax.plot(X, Y, color='k')    # Plot of regression\n",
    "        ax.set_xlabel('Poverty (%)')\n",
    "        ax.set_ylabel('Births 15-17')\n",
    "        ax.set_title('Births 15-17 vs. Poverty %')\n",
    "        plt.savefig('regression_Brth15to17_PovPct.pdf')\n",
    "        \n",
    "        \n",
    "    def twodim_regression(self, data):\n",
    "        self.sess.run(tf.global_variables_initializer())\n",
    "        \n",
    "        # Create feed dictionary. Careful with row and column vectors\n",
    "        data_A = np.array(data.loc[:, ['PovPct', 'ViolCrime']])\n",
    "        ones_A = np.array(np.ones(data.shape[0]), ndmin=2).T\n",
    "        input_A = np.hstack((data_A, ones_A))\n",
    "        input_b = np.array(data.loc[:, 'Brth15to17'], ndmin=2).T\n",
    "        feed_dict = {self.A: input_A, self.b: input_b}\n",
    "    \n",
    "        output = self.sess.run(self.x, feed_dict=feed_dict)\n",
    "    \n",
    "        # Print the regression equation\n",
    "        print('Regression equation:')\n",
    "        print('\\'Brth15to17\\' = %.2f + %.2f\\'PovPct\\' + %.2f\\'ViolCrime\\'' \\\n",
    "            % (output[0], output[1], output[2]))"
   ]
  },
  {
   "cell_type": "markdown",
   "metadata": {},
   "source": [
    "# Run regressions"
   ]
  },
  {
   "cell_type": "code",
   "execution_count": 21,
   "metadata": {},
   "outputs": [
    {
     "name": "stdout",
     "output_type": "stream",
     "text": [
      "Regression equation:\n",
      "'Brth15to17' = 1.37 + 4.27'PovPct'\n",
      "Regression equation:\n",
      "'Brth15to17' = 1.04 + 0.34'PovPct' + 5.98'ViolCrime'\n"
     ]
    },
    {
     "data": {
      "image/png": "[encoded data removed]",
      "text/plain": [
       "<matplotlib.figure.Figure at 0x182be1c198>"
      ]
     },
     "metadata": {
      "needs_background": "light"
     },
     "output_type": "display_data"
    }
   ],
   "source": [
    "model = TF_regression()\n",
    "model.onedim_regression(g_data)\n",
    "model.twodim_regression(g_data)"
   ]
  },
  {
   "cell_type": "code",
   "execution_count": null,
   "metadata": {},
   "outputs": [],
   "source": []
  }
 ],
 "metadata": {
  "kernelspec": {
   "display_name": "Python 3",
   "language": "python",
   "name": "python3"
  },
  "language_info": {
   "codemirror_mode": {
    "name": "ipython",
    "version": 3
   },
   "file_extension": ".py",
   "mimetype": "text/x-python",
   "name": "python",
   "nbconvert_exporter": "python",
   "pygments_lexer": "ipython3",
   "version": "3.6.0"
  }
 },
 "nbformat": 4,
 "nbformat_minor": 2
}
